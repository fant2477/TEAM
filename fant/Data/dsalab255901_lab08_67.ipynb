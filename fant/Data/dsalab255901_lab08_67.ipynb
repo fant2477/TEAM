{
 "cells": [
  {
   "cell_type": "markdown",
   "metadata": {},
   "source": [
    "13016213 Data Structures and Algorithms Laboratory\n",
    "\n",
    "**NOTE** click here to select this cell, press Esc-Enter to enter cell edit mode, press Shift-Enter to put the cell back to display mode.\n",
    "\n",
    "#### Name:Nattanun Aramchatmongkol\n",
    "\n",
    "#### Student ID: 58090067\n",
    "\n",
    "Laboratory 8: Priority Queues\n",
    "==="
   ]
  },
  {
   "cell_type": "markdown",
   "metadata": {},
   "source": [
    "## Overview\n",
    "\n",
    "This laboratory introduces a new abstract data type known as a **priority queue**. The priority queue is a collection of prioritized elements that allows arbitrary element insertion, and allows the removal of the element that has the *highest priority*. When an element is inserted into a priority queue, the user designates its priority by providing an assoicated **key**. Although it is quite common for priorities to be expressed with numerical keys, any object may be used as a key, as long as the object type support a consistent meaning for the test $a < b$ for any instances $a$ and $b$ of that type. \n",
    "\n",
    "Applications of priority queues include simulation systems, job scheduling in computer systems, numerical compuations, a building block for a sorting algorithm and a file-compression algorithm to name a few.\n",
    "\n",
    "## The Priority Queue ADT\n",
    "\n",
    "### Definition of the Priority Queue ADT\n",
    "\n",
    "A *priority queue* is a queue in which each item is assigned a priority and items with a higher priority are removed before those with a lower priority, irrespective of when they were added. Formally, we model an element and its priority as a key-value pair. The following methods are supported by a priority queue:\n",
    "\n",
    "* **add(k, v):** Insert an item with key $k$ and value $v$ into priority queue.\n",
    "* **max():** Return a tuple $(k, v)$, representing the key and value of an item in the priority queue with highest priority $k$; an error occurs if the priority queue is empty.\n",
    "* **delmax():** Remove an item with highest prioirty $k$ from the priority queue, and return a tuple, $(k, v)$, representing the key and value of the removed item; an error occurs if the priority queue is empty.\n",
    "* **is_empty():** Return $True$ if the priority queue does not contain any items.\n",
    "* **len():** Return the number of items in the priority queue.\n",
    "\n",
    "As an example, the following code snippet shows a series of operations and their effects on an initially empty priority queue $P$.\n",
    "\n",
    "```python\n",
    "P.add(ord('P'), 'P')    # P contains (80,'P')\n",
    "P.add(ord('R'), 'R')    # P contains (80,'P'),(82,'R')\n",
    "P.add(ord('I'), 'I')    # P contains (80,'P'),(82,'R'),(73,'I')\n",
    "P.add(ord('O'), 'O')    # P contains (80,'P'),(82,'R'),(73,'I'),(79,'O')\n",
    "P.max()                 # Return value: (82,'R')\n",
    "P.delmax()              # P contains (80,'P'),(73,'I'),(79,'O'); Return value: (82,'R')\n",
    "len(P)                  # Return value: 3\n",
    "P.delmax()              # P contains (73,'I'),(79,'O'); Return value: (80,'P')\n",
    "P.delmax()              # P contains (73,'I'); Return value: (79,'O')\n",
    "P.delmax()              # P contains nothing; Return value: (73,'I')\n",
    "P.delmax()              # \"error\"\n",
    "P.is_empty()            # True\n",
    "```\n"
   ]
  },
  {
   "cell_type": "markdown",
   "metadata": {},
   "source": [
    "<hr />\n",
    "### Question 1 [2 marks]. \n",
    "The priority queue is a proper generalization of the stack and the queue, because we can implement these data structures with priority queues.\n",
    "\n",
    "a. Explain how to use a priority queue ADT to implement a **stack** ADT.\n",
    "\n",
    "b. Explain how to use a priority queue ADT to implement a **queue** ADT."
   ]
  },
  {
   "cell_type": "code",
   "execution_count": 1,
   "metadata": {
    "collapsed": true
   },
   "outputs": [],
   "source": [
    "#\n",
    "### TODO.Q1\n",
    "#\n",
    "(a)\n",
    "    Array representation (unordered). \n",
    "    Perhaps the simplest priority queue implementation is based on our code for pushdown stacks. \n",
    "    The code for insert in the priority queue is the same as for push in the stack. To implement remove the maximum, \n",
    "    we can add code like the inner loop of selection sort to exchange the maximum item with the item at the end and then delete that one, \n",
    "    as we did with pop() for stacks. Program UnorderedArrayMaxPQ.java implements a priority queue using this approach.\n",
    "    \n",
    "    from http://algs4.cs.princeton.edu/24pq/\n",
    "        \n",
    "(b)\n",
    "    The semantic difference is that the item that is removed from the queue is not necessarily the first one that was added. \n",
    "    Rather, it is whatever item in the queue has the highest priority. What the priorities are, and how they compare to each other, \n",
    "    are not specified by the Priority Queue implementation. It depends on what the items are that are in the queue.\n",
    "    \n",
    "    from http://www.oopweb.com/Java/Documents/ThinkCSJav/Volume/chap16.htm"
   ]
  },
  {
   "cell_type": "markdown",
   "metadata": {},
   "source": [
    "<hr />\n",
    "### Implementations of a Priority Queue ADT\n",
    "\n",
    "Numerous options of data structures are available for implementing priority queues:\n",
    "\n",
    "* unsorted array based priority queues\n",
    "* sorted array based priority queues\n",
    "* unsorted doubly linked list based priority queues\n",
    "* sorted doubly linked list based priority queues\n",
    "* heap based priority queues\n",
    "\n",
    "Before proceeding to the discussion of specific realizations of priority queues, let us define an abstract base class for a priority queue that includes a definition for a key-value pair item and a is_empty method."
   ]
  },
  {
   "cell_type": "code",
   "execution_count": 1,
   "metadata": {
    "collapsed": false
   },
   "outputs": [],
   "source": [
    "class PriorityQueue:\n",
    "    \"\"\"Abstract base class for a priority queue.\"\"\"\n",
    "    \n",
    "    class _Item:\n",
    "        \"\"\"Lightweight composite to store priority queue items.\"\"\"\n",
    "        __slots__ = '_key', '_value'\n",
    "        \n",
    "        def __init__(self, k, v):\n",
    "            self._key = k\n",
    "            self._value = v\n",
    "            \n",
    "        def __lt__(self, other):\n",
    "            \"\"\"Compare this item with other based on their keys.\"\"\"\n",
    "            return self._key < other._key\n",
    "        \n",
    "        def __eq__(self, other):\n",
    "            \"\"\"Compare this item with other based on their keys.\"\"\"\n",
    "            return self._key == other._key\n",
    "        \n",
    "        def __le__(self, other):\n",
    "            \"\"\"Compare this item with other based on their keys.\"\"\"\n",
    "            return self._key <= other._key\n",
    "\n",
    "        \n",
    "    def is_empty(self):\n",
    "        \"\"\"Return True if the priority queue is empty.\n",
    "        \n",
    "        The len method is an abstract method to be implemented by a concrete class.\n",
    "        \"\"\"\n",
    "        return len(self) == 0"
   ]
  },
  {
   "cell_type": "markdown",
   "metadata": {},
   "source": [
    "<hr />\n",
    "### Question 2 [2 marks]. \n",
    "In the definition of the nested class $\\_Item$, there is a class-member declaration $__slots__$. Explain the advantage of defining $__slots__$ in a class definition."
   ]
  },
  {
   "cell_type": "code",
   "execution_count": 6,
   "metadata": {
    "collapsed": true
   },
   "outputs": [],
   "source": [
    "### TODO.Q2\n",
    "__slots__ = '_key', '_value' composite to store priority queue items. easy to add check or modified the component"
   ]
  },
  {
   "cell_type": "markdown",
   "metadata": {},
   "source": [
    "<hr />\n",
    "### An Unsorted Array based Priority Queue\n",
    "\n",
    "Our first concrete implementation of a priority queue stores items within an unsorted array. We will use the built-in list class for this purpose. The $UnsortedArrayPriorityQueue$ inherits and implements the abstract base class $PriorityQueue$. A full implementation of the class is provided below."
   ]
  },
  {
   "cell_type": "code",
   "execution_count": 2,
   "metadata": {
    "collapsed": false
   },
   "outputs": [],
   "source": [
    "class UnsortedArrayPriorityQueue(PriorityQueue):\n",
    "    \"\"\"A priority queue implemented with an unsorted list.\"\"\"\n",
    "    \n",
    "    def __init__(self):\n",
    "        \"\"\"Create a new empty priority queue.\"\"\"\n",
    "        self._data = list()\n",
    "    \n",
    "    def __len__(self):\n",
    "        \"\"\"Return the number of items in the priority queue.\"\"\"\n",
    "        return len(self._data)\n",
    "    \n",
    "    def add(self, key, value):\n",
    "        \"\"\"Add a key-value pair.\"\"\"\n",
    "        self._data.append(self._Item(key, value))\n",
    "            \n",
    "    def _findmax(self):\n",
    "        \"\"\"Return the index of the item with the maximum key.\"\"\"\n",
    "        assert not self.is_empty(), \"_findmax: priority queue is empty.\"\n",
    "        maxidx = 0\n",
    "        for j in range(1, len(self)):\n",
    "            if self._data[maxidx] < self._data[j]:\n",
    "                maxidx = j                    \n",
    "        return maxidx\n",
    "\n",
    "    def max(self):\n",
    "        \"\"\"Return but do not remove (k, v) tuple with maximum key (highest priority).\"\"\"\n",
    "        maxidx = self._findmax()        \n",
    "        maxitem = self._data[maxidx]\n",
    "        \n",
    "        return (maxitem._key, maxitem._value)\n",
    "    \n",
    "    def delmax(self):\n",
    "        \"\"\"Remove and return (k, v) tuple with maximum key (highest priority).\"\"\"\n",
    "        maxidx = self._findmax()        \n",
    "        maxitem = self._data.pop(maxidx)\n",
    "        \n",
    "        return (maxitem._key, maxitem._value)"
   ]
  },
  {
   "cell_type": "markdown",
   "metadata": {},
   "source": [
    "Now, let us develop and run a unit test for the $UnsortedArrayPriorityQueue$ class. We will use the tools provided in the Python's **unittest** module to construct and run our test. For a detailed description of the unittest module, please refer to the Python standard library documentation: https://docs.python.org/3/library/unittest.html. A nice tutorial of unittest module is available at: http://www.diveintopython3.net/unit-testing.html."
   ]
  },
  {
   "cell_type": "code",
   "execution_count": 17,
   "metadata": {
    "collapsed": false
   },
   "outputs": [
    {
     "name": "stderr",
     "output_type": "stream",
     "text": [
      "..\n",
      "----------------------------------------------------------------------\n",
      "Ran 2 tests in 0.001s\n",
      "\n",
      "OK\n"
     ]
    }
   ],
   "source": [
    "import unittest\n",
    "\n",
    "class TestUnsortedArrayPriorityQueue(unittest.TestCase):\n",
    "\n",
    "    def test_case1(self):\n",
    "        # create a priority queue\n",
    "        P = UnsortedArrayPriorityQueue()\n",
    "        \n",
    "        # test add, len, max methods\n",
    "        P.add(ord('P'), 'P')\n",
    "        self.assertEqual(len(P), 1)\n",
    "        self.assertEqual(P.max(), (ord('P'), 'P'))\n",
    "                \n",
    "        P.add(ord('R'), 'R')    \n",
    "        self.assertEqual(len(P), 2)\n",
    "        self.assertEqual(P.max(), (ord('R'), 'R'))\n",
    "        \n",
    "        P.add(ord('I'), 'I')    \n",
    "        self.assertEqual(len(P), 3)\n",
    "        self.assertEqual(P.max(), (ord('R'), 'R'))\n",
    "        \n",
    "        P.add(ord('O'), 'O')    \n",
    "        self.assertEqual(len(P), 4)\n",
    "        self.assertEqual(P.max(), (ord('R'), 'R'))\n",
    "\n",
    "        # test is_empty\n",
    "        self.assertEqual(P.is_empty(), False)\n",
    "        \n",
    "        # test delmax\n",
    "        item = P.delmax()\n",
    "        self.assertEqual(len(P), 3)\n",
    "        self.assertEqual(item, (ord('R'), 'R'))\n",
    "\n",
    "        item = P.delmax()\n",
    "        self.assertEqual(len(P), 2)\n",
    "        self.assertEqual(item, (ord('P'), 'P'))\n",
    "\n",
    "        item = P.delmax()\n",
    "        self.assertEqual(len(P), 1)\n",
    "        self.assertEqual(item, (ord('O'), 'O'))\n",
    "\n",
    "        item = P.delmax()\n",
    "        self.assertEqual(len(P), 0)\n",
    "        self.assertEqual(item, (ord('I'), 'I'))\n",
    "\n",
    "        self.assertRaises(AssertionError, P.delmax)\n",
    "\n",
    "        # test is_empty\n",
    "        self.assertEqual(P.is_empty(), True)\n",
    "#''' \n",
    "    def test_case2(self):\n",
    "        ### TODO.Q3\n",
    "        \n",
    "        # create a UnsortedArrayPriorityQueue instance named P\n",
    "        P = UnsortedArrayPriorityQueue()\n",
    "        # add (ord('a'), 'a') to P\n",
    "        P.add (ord('a'), 'a') \n",
    "        # add (ord('s'), 's') to P\n",
    "        P.add (ord('s'), 's')\n",
    "        # add (ord('o'), 'o') to P\n",
    "        P.add (ord('o'), 'o')\n",
    "        # add (ord('r'), 'r') to P\n",
    "        P.add (ord('r'), 'r')\n",
    "        # add (ord('t'), 't') to P\n",
    "        P.add (ord('t'), 't')\n",
    "        # add (ord('i'), 'i') to P\n",
    "        P.add (ord('i'), 'i') \n",
    "        # add (ord('n'), 'n') to P\n",
    "        P.add (ord('n'), 'n') \n",
    "        # add (ord('g'), 'g') to P\n",
    "        P.add (ord('g'), 'g')\n",
    "        # check P.delmax() == 't'\n",
    "        item = P.delmax()\n",
    "        self.assertEqual(item,(ord( 't'),'t'))\n",
    "        # check P.delmax() == 's'\n",
    "        item = P.delmax()\n",
    "        self.assertEqual(item, (ord( 's'),'s'))\n",
    "        # check P.delmax() == 'r'\n",
    "        item = P.delmax()\n",
    "        self.assertEqual(item,  (ord( 'r'),'r'))\n",
    "        # check P.delmax() == 'o'\n",
    "        item = P.delmax()\n",
    "        self.assertEqual(item, (ord( 'o'),'o'))       \n",
    "        # check P.delmax() == 'n'\n",
    "        item = P.delmax()\n",
    "        self.assertEqual(item, (ord( 'n'),'n'))\n",
    "        # check P.delmax() == 'i'\n",
    "        item = P.delmax()\n",
    "        self.assertEqual(item, (ord( 'i'),'i'))\n",
    "        # check P.delmax() == 'g'\n",
    "        item = P.delmax()\n",
    "        self.assertEqual(item, (ord( 'g'),'g'))\n",
    "        # check P.delmax() == 'a'\n",
    "        item = P.delmax()\n",
    "        self.assertEqual(item, (ord( 'a'),'a'))       \n",
    "# '''       \n",
    "        \n",
    "def runtest():        \n",
    "    testmodule = TestUnsortedArrayPriorityQueue()\n",
    "    suite = unittest.TestLoader().loadTestsFromModule(testmodule)\n",
    "    unittest.TextTestRunner().run(suite)\n",
    "\n",
    "\n",
    "runtest()"
   ]
  },
  {
   "cell_type": "markdown",
   "metadata": {},
   "source": [
    "<hr />\n",
    "### Question 3 [2 marks]. \n",
    "Complete the method $test\\_case2$ of the $TestUnsortedArrayPriorityQueue$ class. Run the test cases, make sure that all tests pass."
   ]
  },
  {
   "cell_type": "code",
   "execution_count": 9,
   "metadata": {
    "collapsed": true
   },
   "outputs": [],
   "source": [
    "### TODO.Q3 \n",
    "# complete the method test_case2 in TestUnsortedArrayPriorityQueue\n",
    "def test_case2(self):\n",
    "        ### TODO.Q3\n",
    "        \n",
    "        # create a UnsortedArrayPriorityQueue instance named P\n",
    "        P = UnsortedArrayPriorityQueue()\n",
    "        # add (ord('a'), 'a') to P\n",
    "        P.add (ord('a'), 'a') \n",
    "        # add (ord('s'), 's') to P\n",
    "        P.add (ord('s'), 's')\n",
    "        # add (ord('o'), 'o') to P\n",
    "        P.add (ord('o'), 'o')\n",
    "        # add (ord('r'), 'r') to P\n",
    "        P.add (ord('r'), 'r')\n",
    "        # add (ord('t'), 't') to P\n",
    "        P.add (ord('t'), 't')\n",
    "        # add (ord('i'), 'i') to P\n",
    "        P.add (ord('i'), 'i') \n",
    "        # add (ord('n'), 'n') to P\n",
    "        P.add (ord('n'), 'n') \n",
    "        # add (ord('g'), 'g') to P\n",
    "        P.add (ord('g'), 'g')\n",
    "        # check P.delmax() == 't'\n",
    "        item = P.delmax()\n",
    "        self.assertEqual(item,(ord( 't'),'t'))\n",
    "        # check P.delmax() == 's'\n",
    "        item = P.delmax()\n",
    "        self.assertEqual(item, (ord( 's'),'s'))\n",
    "        # check P.delmax() == 'r'\n",
    "        item = P.delmax()\n",
    "        self.assertEqual(item,  (ord( 'r'),'r'))\n",
    "        # check P.delmax() == 'o'\n",
    "        item = P.delmax()\n",
    "        self.assertEqual(item, (ord( 'o'),'o'))       \n",
    "        # check P.delmax() == 'n'\n",
    "        item = P.delmax()\n",
    "        self.assertEqual(item, (ord( 'n'),'n'))\n",
    "        # check P.delmax() == 'i'\n",
    "        item = P.delmax()\n",
    "        self.assertEqual(item, (ord( 'i'),'i'))\n",
    "        # check P.delmax() == 'g'\n",
    "        item = P.delmax()\n",
    "        self.assertEqual(item, (ord( 'g'),'g'))\n",
    "        # check P.delmax() == 'a'\n",
    "        item = P.delmax()\n",
    "        self.assertEqual(item, (ord( 'a'),'a'))"
   ]
  },
  {
   "cell_type": "markdown",
   "metadata": {},
   "source": [
    "<hr />\n",
    "### Question 4 [2 marks]. \n",
    "What are the worst-case running times of the following operations of the UnsortedArrayPriorityQueue class ?\n",
    "\n",
    "* **len**\n",
    "* **is_empty**\n",
    "* **add**\n",
    "* **max**\n",
    "* **delmax**"
   ]
  },
  {
   "cell_type": "code",
   "execution_count": 10,
   "metadata": {
    "collapsed": true
   },
   "outputs": [],
   "source": [
    "### TODO.Q4\n",
    "len = O(1)\n",
    "is_empty = O(1)\n",
    "add = O(1)\n",
    "max = O(1)\n",
    "delmax = O(1)\n"
   ]
  },
  {
   "cell_type": "markdown",
   "metadata": {},
   "source": [
    "<hr />\n",
    "### A Sorted Array based Priority Queue\n",
    "\n",
    "An alternative implementation of a priority queue uses an array, yet maintaining items sorted by nonincreasing keys. \n",
    "As a result, the first element of the array is an item with the maximum key (i.e., highest priority). A partial implementation of a sorted array based priority queue is as follows."
   ]
  },
  {
   "cell_type": "code",
   "execution_count": 34,
   "metadata": {
    "collapsed": false
   },
   "outputs": [],
   "source": [
    "class SortedArrayPriorityQueue(PriorityQueue):\n",
    "    \"\"\"A priority queue implemented with a sorted list.\"\"\"\n",
    "    \n",
    "    def __init__(self):\n",
    "        \"\"\"Create a new empty priority queue.\"\"\"\n",
    "        self._data = list()\n",
    "    \n",
    "    def __len__(self):\n",
    "        \"\"\"Return the number of items in the priority queue.\"\"\"\n",
    "        return len(self._data)\n",
    "    \n",
    "    def add(self, key, value):\n",
    "        \"\"\"Add a key-value pair.\"\"\"        \n",
    "        ### TODO.Q5\n",
    "\n",
    "        self._data.append(self._Item(key, value))\n",
    "\n",
    "        for i in range((len(self))):\n",
    "            if(i == len(self)-1):\n",
    "                break\n",
    "            if(self._data[i] < self._data[i+1]):\n",
    "                    array1 = self._data[i]\n",
    "                    self._data[i] = self._data[i+1]\n",
    "                    self._data[i+1] = array1\n",
    "        \n",
    "    def max(self):\n",
    "        \"\"\"Return but do not remove (k, v) tuple with maximum key (highest priority).\"\"\"\n",
    "        assert not self.is_empty(), \"max: priority queue is empty.\"\n",
    "        ### TODO.Q5\n",
    "        return (self._data[0]._key,self._data[0]._value)\n",
    "    \n",
    "    def delmax(self):\n",
    "        \"\"\"Remove and return (k, v) tuple with maximum key (highest priority).\"\"\"\n",
    "        assert not self.is_empty(), \"delmax: priority queue is empty.\"\n",
    "        maxitem = self._data.pop(0)\n",
    "        \n",
    "        return (maxitem._key, maxitem._value)"
   ]
  },
  {
   "cell_type": "markdown",
   "metadata": {},
   "source": [
    "<hr />\n",
    "### Question 5 [2 marks]. \n",
    "Complete the $add$ and $max$ methods of the $SortedArrayPriorityQueue$ class."
   ]
  },
  {
   "cell_type": "code",
   "execution_count": 12,
   "metadata": {
    "collapsed": true
   },
   "outputs": [],
   "source": [
    "### TODO.Q5\n",
    "# complete the method add, max in SortedArrayPriorityQueue\n",
    "\n",
    "def add(self, key, value):\n",
    "    \"\"\"Add a key-value pair.\"\"\"        \n",
    "    ### TODO.Q5\n",
    "\n",
    "    self._data.append(self._Item(key, value))\n",
    "\n",
    "    for i in range((len(self))):\n",
    "        if(i == len(self)-1):\n",
    "            break\n",
    "        if(self._data[i] < self._data[i+1]):\n",
    "                array1 = self._data[i]\n",
    "                self._data[i] = self._data[i+1]\n",
    "                self._data[i+1] = array1\n",
    "\n",
    "def max(self):\n",
    "    \"\"\"Return but do not remove (k, v) tuple with maximum key (highest priority).\"\"\"\n",
    "    assert not self.is_empty(), \"max: priority queue is empty.\"\n",
    "    ### TODO.Q5\n",
    "    return (self._data[0]._key,self._data[0]._value)"
   ]
  },
  {
   "cell_type": "markdown",
   "metadata": {},
   "source": [
    "<hr />\n",
    "### Question 6 [2 marks]. \n",
    "What are the worst-case running times of the following operations of the SortedArrayPriorityQueue class ?\n",
    "\n",
    "* **len**\n",
    "* **is_empty**\n",
    "* **add**\n",
    "* **max**\n",
    "* **delmax**"
   ]
  },
  {
   "cell_type": "code",
   "execution_count": 13,
   "metadata": {
    "collapsed": true
   },
   "outputs": [],
   "source": [
    "### TODO.Q6\n",
    "len = O(1)\n",
    "is_empty = O(1)\n",
    "add = O(n)\n",
    "max = O(1)\n",
    "delmax = O(1)"
   ]
  },
  {
   "cell_type": "markdown",
   "metadata": {},
   "source": [
    "<hr />\n",
    "### Question 7 [2 marks]. \n",
    "Construct and run a unit test for the SortedArrayQueue class."
   ]
  },
  {
   "cell_type": "code",
   "execution_count": 40,
   "metadata": {
    "collapsed": false,
    "scrolled": true
   },
   "outputs": [
    {
     "name": "stdout",
     "output_type": "stream",
     "text": [
      "max:  (82, 'R')\n",
      "(82, 'R')\n",
      "(80, 'P')\n",
      "max:  (79, 'O')\n",
      "(79, 'O')\n",
      "(73, 'I')\n"
     ]
    }
   ],
   "source": [
    "### TODO.Q7\n",
    "\n",
    "s = SortedArrayPriorityQueue()   \n",
    "# test add, len, max methods\n",
    "s.add(ord('I'), 'I')      \n",
    "s.add(ord('R'), 'R')\n",
    "s.add(ord('P'), 'P')  \n",
    "s.add(ord('O'), 'O')  \n",
    "\n",
    "print(\"max: \" , s.max())\n",
    "print(s.delmax())\n",
    "print(s.delmax())\n",
    "\n",
    "print(\"max: \" , s.max())\n",
    "\n",
    "print(s.delmax())\n",
    "print(s.delmax())\n"
   ]
  },
  {
   "cell_type": "markdown",
   "metadata": {},
   "source": [
    "<hr />\n",
    "## Programming Quiz 8 [6 marks]\n",
    "\n",
    "Implement a priority queue ADT using an **unsorted doubly linked list**. Construct and run a unit test for your priority queue implementation."
   ]
  },
  {
   "cell_type": "code",
   "execution_count": 51,
   "metadata": {
    "collapsed": false
   },
   "outputs": [
    {
     "ename": "TypeError",
     "evalue": "'_Node' object is not callable",
     "output_type": "error",
     "traceback": [
      "\u001b[1;31m---------------------------------------------------------------------------\u001b[0m",
      "\u001b[1;31mTypeError\u001b[0m                                 Traceback (most recent call last)",
      "\u001b[1;32m<ipython-input-51-d7bb74a4afdd>\u001b[0m in \u001b[0;36m<module>\u001b[1;34m()\u001b[0m\n\u001b[0;32m     51\u001b[0m \u001b[0ms\u001b[0m \u001b[1;33m=\u001b[0m \u001b[0munsorteddoublylinkedlist\u001b[0m\u001b[1;33m(\u001b[0m\u001b[1;33m)\u001b[0m\u001b[1;33m\u001b[0m\u001b[0m\n\u001b[0;32m     52\u001b[0m \u001b[1;31m# test add, len, max methods\u001b[0m\u001b[1;33m\u001b[0m\u001b[1;33m\u001b[0m\u001b[0m\n\u001b[1;32m---> 53\u001b[1;33m \u001b[0ms\u001b[0m\u001b[1;33m.\u001b[0m\u001b[0madd\u001b[0m\u001b[1;33m(\u001b[0m\u001b[0mord\u001b[0m\u001b[1;33m(\u001b[0m\u001b[1;34m'I'\u001b[0m\u001b[1;33m)\u001b[0m\u001b[1;33m,\u001b[0m \u001b[1;34m'I'\u001b[0m\u001b[1;33m)\u001b[0m\u001b[1;33m\u001b[0m\u001b[0m\n\u001b[0m\u001b[0;32m     54\u001b[0m \u001b[0ms\u001b[0m\u001b[1;33m.\u001b[0m\u001b[0madd\u001b[0m\u001b[1;33m(\u001b[0m\u001b[0mord\u001b[0m\u001b[1;33m(\u001b[0m\u001b[1;34m'R'\u001b[0m\u001b[1;33m)\u001b[0m\u001b[1;33m,\u001b[0m \u001b[1;34m'R'\u001b[0m\u001b[1;33m)\u001b[0m\u001b[1;33m\u001b[0m\u001b[0m\n\u001b[0;32m     55\u001b[0m \u001b[0ms\u001b[0m\u001b[1;33m.\u001b[0m\u001b[0madd\u001b[0m\u001b[1;33m(\u001b[0m\u001b[0mord\u001b[0m\u001b[1;33m(\u001b[0m\u001b[1;34m'P'\u001b[0m\u001b[1;33m)\u001b[0m\u001b[1;33m,\u001b[0m \u001b[1;34m'P'\u001b[0m\u001b[1;33m)\u001b[0m\u001b[1;33m\u001b[0m\u001b[0m\n",
      "\u001b[1;32m<ipython-input-51-d7bb74a4afdd>\u001b[0m in \u001b[0;36madd\u001b[1;34m(self, key, value)\u001b[0m\n\u001b[0;32m     18\u001b[0m     \u001b[1;32mdef\u001b[0m \u001b[0madd\u001b[0m\u001b[1;33m(\u001b[0m\u001b[0mself\u001b[0m\u001b[1;33m,\u001b[0m \u001b[0mkey\u001b[0m\u001b[1;33m,\u001b[0m \u001b[0mvalue\u001b[0m\u001b[1;33m)\u001b[0m\u001b[1;33m:\u001b[0m\u001b[1;33m\u001b[0m\u001b[0m\n\u001b[0;32m     19\u001b[0m         \u001b[1;34m\"\"\"Add a key-value pair.\"\"\"\u001b[0m\u001b[1;33m\u001b[0m\u001b[0m\n\u001b[1;32m---> 20\u001b[1;33m         \u001b[0mself\u001b[0m\u001b[1;33m.\u001b[0m\u001b[0m_data\u001b[0m\u001b[1;33m(\u001b[0m\u001b[0mkey\u001b[0m\u001b[1;33m,\u001b[0m \u001b[0mvalue\u001b[0m\u001b[1;33m,\u001b[0m\u001b[1;32mNone\u001b[0m\u001b[1;33m)\u001b[0m\u001b[1;33m\u001b[0m\u001b[0m\n\u001b[0m\u001b[0;32m     21\u001b[0m \u001b[1;33m\u001b[0m\u001b[0m\n\u001b[0;32m     22\u001b[0m     \u001b[1;32mdef\u001b[0m \u001b[0m_findmax\u001b[0m\u001b[1;33m(\u001b[0m\u001b[0mself\u001b[0m\u001b[1;33m)\u001b[0m\u001b[1;33m:\u001b[0m\u001b[1;33m\u001b[0m\u001b[0m\n",
      "\u001b[1;31mTypeError\u001b[0m: '_Node' object is not callable"
     ]
    }
   ],
   "source": [
    "### TODO.P8\n",
    "    \n",
    "class unsorteddoublylinkedlist(PriorityQueue):\n",
    "    \"\"\"A priority queue implemented with an unsorted list.\"\"\"\n",
    "    class _Node():\n",
    "        def __init__(self, element_1,element_2, nextNode=None):\n",
    "            self._element_1 = element_1\n",
    "            self._element_2 = element_2\n",
    "            self._next = nextNode\n",
    "    def __init__(self):\n",
    "        \"\"\"Create a new empty priority queue.\"\"\"\n",
    "        self._data = unsorteddoublylinkedlist._Node(None,None,None)\n",
    "    \n",
    "    def __len__(self):\n",
    "        \"\"\"Return the number of items in the priority queue.\"\"\"\n",
    "        return len(self._data)\n",
    "    \n",
    "    def add(self, key, value):\n",
    "        \"\"\"Add a key-value pair.\"\"\"\n",
    "        self._data(key, value ,None)\n",
    "            \n",
    "    def _findmax(self):\n",
    "        \"\"\"Return the index of the item with the maximum key.\"\"\"\n",
    "        assert not self.is_empty(), \"_findmax: priority queue is empty.\"\n",
    "        maxidx = 0\n",
    "        for j in range(1, len(self)):\n",
    "            if self._data[maxidx] < self._data[j]:\n",
    "                maxidx = j                    \n",
    "        return maxidx\n",
    "\n",
    "    def max(self):\n",
    "        \"\"\"Return but do not remove (k, v) tuple with maximum key (highest priority).\"\"\"\n",
    "        maxidx = self._findmax()        \n",
    "        maxitem = self._data[maxidx]\n",
    "        \n",
    "        return (maxitem._key, maxitem._value)\n",
    "    \n",
    "    def delmax(self):\n",
    "        \"\"\"Remove and return (k, v) tuple with maximum key (highest priority).\"\"\"\n",
    "        maxidx = self._findmax()        \n",
    "        maxitem = self._data.pop(maxidx)\n",
    "        \n",
    "        return (maxitem._key, maxitem._value)\n",
    "    \n",
    "    \n",
    "    \n",
    "    \n",
    "    \n",
    "    \n",
    "    \n",
    "s = unsorteddoublylinkedlist()   \n",
    "# test add, len, max methods\n",
    "s.add(ord('I'), 'I')      \n",
    "s.add(ord('R'), 'R')\n",
    "s.add(ord('P'), 'P')  \n",
    "s.add(ord('O'), 'O')  \n",
    "\n",
    "print(\"max: \" , s.max())\n",
    "print(s.delmax())\n",
    "print(s.delmax())\n",
    "\n",
    "print(\"max: \" , s.max())\n",
    "\n",
    "print(s.delmax())\n",
    "print(s.delmax())\n"
   ]
  },
  {
   "cell_type": "code",
   "execution_count": null,
   "metadata": {
    "collapsed": true
   },
   "outputs": [],
   "source": []
  }
 ],
 "metadata": {
  "anaconda-cloud": {},
  "kernelspec": {
   "display_name": "Python [dsalab]",
   "language": "python",
   "name": "Python [dsalab]"
  },
  "language_info": {
   "codemirror_mode": {
    "name": "ipython",
    "version": 3
   },
   "file_extension": ".py",
   "mimetype": "text/x-python",
   "name": "python",
   "nbconvert_exporter": "python",
   "pygments_lexer": "ipython3",
   "version": "3.5.2"
  }
 },
 "nbformat": 4,
 "nbformat_minor": 0
}
