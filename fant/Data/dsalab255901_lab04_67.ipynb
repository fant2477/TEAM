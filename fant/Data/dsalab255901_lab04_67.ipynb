{
 "cells": [
  {
   "cell_type": "markdown",
   "metadata": {},
   "source": [
    "13016213 Data Structures and Algorithms Laboratory\n",
    "\n",
    "**NOTE** click here to select this cell, press Esc-Enter to enter cell edit mode, press Shift-Enter to put the cell back to display mode.\n",
    "\n",
    "#### Name: Nattanun Aramchatmongkol\n",
    "\n",
    "#### Student ID: 58090067\n",
    "\n",
    "Laboratory 4: Stacks\n",
    "===\n",
    "\n",
    "## Overview\n",
    "In this laboratory, we introduce the *stack*, which is a type of container in which new items are added, or existing items are removed from the same end, commonly referred to as the top of the stack. The access restriction of stacks implements a *last-in-first-out* (LIFO) type protocol, in which the last item inserted is the first item removed. Figure 1 illustrates an abstract view of a stack with two new values being added to the top of the stack and then one value being removed from the top.  \n",
    "\n",
    "<br>\n",
    "<center><img src=\"figs/fig01.png\" />\n",
    "\n",
    "**Figure 1. Abstract view of a stack: (a) 19 is pushed on the top of the stack, (b) 5 is pushed on the top of the stack,(c) the resulting stack after 19 and 5 are added, (d) popping the top value (i.e. 5).**\n",
    "</center>\n",
    "\n",
    "Stacks are used extensively in solving computational problems. Important applications of the stack data structure include checking of balanced delimiters, evaluating postfix expressions, and finding a path through a maze to name a few.\n",
    "\n",
    "## The Stack ADT\n",
    "\n",
    "### Defining the Stack ADT\n",
    "A *stack* is a data structure that stores a linear collection of items with access limited to a last-in-first-out order. Adding and removing items is restricted to one end known as the *top* of the stack. An empty stack is one containing no items.\n",
    "\n",
    "* **Stack( )**: Creates a new empty stack.\n",
    "* **isEmpty( )**: Returns a boolean value indicating if the stack is empty.\n",
    "* **length( )**: Returns the number of items in the stack.\n",
    "* **pop( )**: Removes and returns the top item of the stack, if the stack is not empty. Items cannot be popped from an empty stack. The next item on the stack becomes the new top item.\n",
    "* **peek( )**: Returns a reference to the item on top of a non-empty stack without removing it. Peeking, which cannot be done on an empty stack, does not modify the stack contents.\n",
    "* **push( item )**: Adds the given item to the top of the stack.\n",
    "\n",
    "### Using the Stack ADT\n",
    "\n",
    "To illustrate usages of the Stack ADT, let us create the stack with values as in Figure 1(c). "
   ]
  },
  {
   "cell_type": "code",
   "execution_count": 4,
   "metadata": {
    "collapsed": false
   },
   "outputs": [],
   "source": [
    "myStack = Stack()\n",
    "myStack.push( 12 )\n",
    "myStack.push( 74 )\n",
    "myStack.push( 23 )\n",
    "myStack.push( 19 )\n",
    "myStack.push( 5 )"
   ]
  },
  {
   "cell_type": "markdown",
   "metadata": {},
   "source": [
    "If we pop the values from the stack, they will be removed in the reserve order from which they were pushed onto the stack."
   ]
  },
  {
   "cell_type": "markdown",
   "metadata": {},
   "source": [
    "#### Question 1 [1 mark]. \n",
    "Write a while loop to pop and print all values from the *myStack* Stack ADT."
   ]
  },
  {
   "cell_type": "code",
   "execution_count": 5,
   "metadata": {
    "collapsed": false
   },
   "outputs": [
    {
     "name": "stdout",
     "output_type": "stream",
     "text": [
      "5 19 23 74 12 "
     ]
    }
   ],
   "source": [
    "### TODO.Q1 \n",
    "\n",
    "def pr():\n",
    "    while(myStack.isEmpty()!=True):\n",
    "        print(myStack.pop(),end = \" \")\n",
    "pr()"
   ]
  },
  {
   "cell_type": "markdown",
   "metadata": {},
   "source": [
    "#### Question 2 [1 mark].\n",
    "What is the result of executing your code in Question 1?"
   ]
  },
  {
   "cell_type": "code",
   "execution_count": 15,
   "metadata": {
    "collapsed": false
   },
   "outputs": [],
   "source": [
    "### TODO.Q2\n",
    "# the result is  5 19 23 74 12\n"
   ]
  },
  {
   "cell_type": "markdown",
   "metadata": {},
   "source": [
    "#### Question 3 [2 marks].\n",
    "Using the Stack ADT, write a program that receives integer values from the user until a negative value is entered, which flags the end of the input. The program will then print the input integers in reverse order from how they were entered. As an example, suppose that the user entered the following vlues, one at a time:\n",
    "\n",
    "$7$ $13$ $45$ $19$ $28$ $-1$\n",
    "\n",
    "Your program must produce the following result.\n",
    "\n",
    "$28$ $19$ $45$ $13$ $7$"
   ]
  },
  {
   "cell_type": "code",
   "execution_count": 6,
   "metadata": {
    "collapsed": false
   },
   "outputs": [
    {
     "name": "stdout",
     "output_type": "stream",
     "text": [
      "Enter integer: 7\n",
      "Enter integer: 13\n",
      "Enter integer: 45\n",
      "Enter integer: 19\n",
      "Enter integer: 28\n",
      "Enter integer: -1\n",
      "28 19 45 13 7 "
     ]
    }
   ],
   "source": [
    "### TODO.Q3\n",
    "\n",
    "\n",
    "inputt = eval(input(\"Enter integer: \"))\n",
    "myStack = Stack()\n",
    "if(inputt>=0):\n",
    "    while(inputt>=0):\n",
    "        myStack.push(inputt)\n",
    "        inputt = eval(input(\"Enter integer: \"))\n",
    "    \n",
    "\n",
    "pr()\n",
    "\n",
    "    "
   ]
  },
  {
   "cell_type": "markdown",
   "metadata": {},
   "source": [
    "## <hr>\n",
    "### Implementing the Stack ADT"
   ]
  },
  {
   "cell_type": "markdown",
   "metadata": {},
   "source": [
    "The Stack ADT can be implemented in many ways. The most common approaches include an array, and a linked list. In Python, the easiest method to implement the Stack ADT is to use the Python list.\n",
    "\n",
    "#### Python List based Stack ADT\n",
    "To use a Python List to implement the Stack ADT, we need to choose the orientation of the stack, i.e. which end of the list to use as the top and which as the base ? For the most efficient ordering, we let the end of the list represent the top of the stack and the front of the list represent the base. The source code of the Python list based Stack ADT is provided below."
   ]
  },
  {
   "cell_type": "code",
   "execution_count": 3,
   "metadata": {
    "collapsed": true
   },
   "outputs": [],
   "source": [
    "class Stack:\n",
    "    '''Implementation of the Stack ADT using a Python list.'''\n",
    "    def __init__(self):\n",
    "        '''Creates an empty stack.'''\n",
    "        self._theItems = list()\n",
    "    \n",
    "    def isEmpty(self):\n",
    "        '''Returns True if the stack is empty or False otherwise.'''\n",
    "        return len(self) == 0\n",
    "    \n",
    "    def __len__(self):\n",
    "        '''Returns the number of items in the stack.'''\n",
    "        return len( self._theItems )\n",
    "    \n",
    "    def peek(self):\n",
    "        '''Returns the top item on the stack without removing it.'''\n",
    "        assert not self.isEmpty(), \"Cannot peek at an empty stack\"\n",
    "        return self._theItems[-1]\n",
    "    \n",
    "    def pop(self):\n",
    "        '''Removes and returns the top item on the stack.'''\n",
    "        assert not self.isEmpty(), \"Cannot pop from an empty stack\"\n",
    "        return self._theItems.pop()\n",
    "    \n",
    "    def push(self, item):\n",
    "        '''Push an item onto the top of the stack.'''\n",
    "        self._theItems.append( item )"
   ]
  },
  {
   "cell_type": "markdown",
   "metadata": {},
   "source": [
    "#### Question 4 [2.5 marks].\n",
    "What are the worst case running time of the following operations of the Python list based Stack ADT ?\n",
    "\n",
    "(a) $isEmpty()$ <br>\n",
    "(b) $__len__()$ <br>\n",
    "(c) $peek()$ <br>\n",
    "(d) $pop()$ <br>\n",
    "(e) $push()$ <br>\n"
   ]
  },
  {
   "cell_type": "code",
   "execution_count": 4,
   "metadata": {
    "collapsed": true
   },
   "outputs": [],
   "source": [
    "### TODO.Q4\n",
    "a. O(1)\n",
    "b. O(1)\n",
    "c. O(1)\n",
    "d. O(n)\n",
    "e. O(1)"
   ]
  },
  {
   "cell_type": "markdown",
   "metadata": {},
   "source": [
    "<hr>\n",
    "#### Linked List based Stack ADT\n",
    "Due to list re-allocation, the Python list based Stack ADT may not be the best choice for implementing stacks with a large number of push and pop operations. To mitigate this efficiency concern, a singly linked list can be used to implement the Stack ADT. "
   ]
  },
  {
   "cell_type": "markdown",
   "metadata": {},
   "source": [
    "#### Question 5 [6 marks].\n",
    "Implement the Stack ADT by using the singly linked list."
   ]
  },
  {
   "cell_type": "code",
   "execution_count": 7,
   "metadata": {
    "collapsed": false
   },
   "outputs": [],
   "source": [
    "### TODO.Q5\n",
    "#\n",
    "# complete the source code below\n",
    "\n",
    "class LinkedListStack:\n",
    "    \n",
    "    class _StackNode:\n",
    "        '''The private storage class for stack nodes.'''\n",
    "        def __init__(self, item, link):\n",
    "            self.item = item\n",
    "            self.next = link\n",
    "            \n",
    "    '''Implementation of the Stack ADT using a singly linked list'''\n",
    "    def __init__(self):\n",
    "        '''Creates an empty stack.'''\n",
    "    \n",
    "        self._elements = self._StackNode(None,None)\n",
    "        \n",
    "    def isEmpty(self):\n",
    "        #return true if empty false otherwise\n",
    "        #curNode = self._elements\n",
    "        if(self._elements.item is None):\n",
    "            return True\n",
    "        else:\n",
    "            return False\n",
    "    \n",
    "    def __len__(self):\n",
    "        '''Returns the number of items in the stack.'''\n",
    "        count = 0\n",
    "        curNode = self._elements\n",
    "        while curNode.next is not None:\n",
    "            count = count + 1\n",
    "            curNode = curNode.next\n",
    "            \n",
    "        return count\n",
    "    \n",
    "    def peek(self):\n",
    "        '''Returns the top item on the stack without removing it.'''\n",
    "        curNode = self._elements\n",
    "        check = self.isEmpty()\n",
    "        if(check == False):\n",
    "            return curNode.item\n",
    "    \n",
    "    def pop(self):\n",
    "        '''Removes and returns the top item on the stack.'''\n",
    "        check = self.isEmpty()\n",
    "        newNode = self._elements\n",
    "        if(check == False):\n",
    "        \n",
    "            self._elements = self._elements.next\n",
    "            return newNode.item\n",
    "           # return \"Out of range\"\n",
    "\n",
    "        \n",
    "    def push(self, item):\n",
    "        '''Pushes an item onto the top of the stack.'''\n",
    "\n",
    "        self._elements = self._StackNode(item,self._elements)\n",
    "                \n",
    "\n",
    "            \n"
   ]
  },
  {
   "cell_type": "markdown",
   "metadata": {},
   "source": [
    "#### Question 6 [4 marks].\n",
    "Write a client code to test the LinkedListStack class. Your client code must first construct a stack object, add integers 21, 12, -8, 9, -22 onto the stack, print out the length of the stack, pop two items out of the stack, checking the value at the top of the stack without popping it out, and finally pop all items out of the stack."
   ]
  },
  {
   "cell_type": "code",
   "execution_count": 8,
   "metadata": {
    "collapsed": false,
    "scrolled": false
   },
   "outputs": [
    {
     "name": "stdout",
     "output_type": "stream",
     "text": [
      "length: 5\n",
      "pop:  -22\n",
      "pop:  9\n",
      "length: 3\n",
      "first element in stack is(peek):  -8\n",
      "pop:  -8\n",
      "pop:  12\n",
      "pop:  21\n",
      "length: 0\n"
     ]
    }
   ],
   "source": [
    "### TODO.Q6\n",
    "### client code for testing the LinkedListStack class\n",
    "myStack = LinkedListStack()\n",
    "    \n",
    "\n",
    "myStack.push(21)\n",
    "myStack.push(12)\n",
    "myStack.push(-8)\n",
    "myStack.push(9)\n",
    "myStack.push(-22)\n",
    "\n",
    "\n",
    "print(\"length: \" + str(myStack.__len__()))\n",
    "    \n",
    "print(\"pop: \",myStack.pop())\n",
    "\n",
    "print(\"pop: \",myStack.pop())\n",
    "    \n",
    "print(\"length: \" + str(myStack.__len__()))\n",
    "    \n",
    "print(\"first element in stack is(peek): \",myStack.peek())\n",
    "\n",
    "print(\"pop: \", myStack.pop())\n",
    "    \n",
    "print(\"pop: \",myStack.pop())\n",
    "\n",
    "print(\"pop: \",myStack.pop())\n",
    "    \n",
    "print(\"length: \" + str(myStack.__len__()))"
   ]
  },
  {
   "cell_type": "markdown",
   "metadata": {},
   "source": [
    "#### Question 7 [2.5 marks].\n",
    "What are the worst case running time of the following operations of the linked list based Stack ADT ?\n",
    "\n",
    "(a) $isEmpty()$ <br>\n",
    "(b) $__len__()$ <br>\n",
    "(c) $peek()$ <br>\n",
    "(d) $pop()$ <br>\n",
    "(e) $push()$ <br>\n"
   ]
  },
  {
   "cell_type": "code",
   "execution_count": 8,
   "metadata": {
    "collapsed": true
   },
   "outputs": [],
   "source": [
    "### TODO.Q7\n",
    "\n",
    "a. O(1)\n",
    "b. O(n)\n",
    "c. O(1)\n",
    "d. O(1)\n",
    "e. O(1)"
   ]
  },
  {
   "cell_type": "markdown",
   "metadata": {},
   "source": [
    "<hr>\n",
    "## Applications of the Stack ADT"
   ]
  },
  {
   "cell_type": "markdown",
   "metadata": {},
   "source": [
    "### Matching Delimiters\n",
    "\n",
    "A number applications use delimiters to group strings of text or simple data into subparts by marking the beginning and end of the group with delimiters. Examples of these applications include mathematical expressions, programming languages, and markup languages.\n",
    "\n",
    "Typically, the usage rules of delimiters required that the delimiters must be paired and balanced. Consider arithmetic expressions that may contain various pairs of grouping symbols, such as \n",
    "\n",
    "$[(5+x)-(y+z)]$\n",
    "\n",
    "Each openning symbol must match its corresponding closing symbol.\n",
    "In this example, the matching delimiters are $()$, $()$, and $[]$.\n",
    "\n",
    "A python function for checking balanced delimiters can be written as follows."
   ]
  },
  {
   "cell_type": "code",
   "execution_count": 9,
   "metadata": {
    "collapsed": true
   },
   "outputs": [],
   "source": [
    "def is_matched(expr):\n",
    "    '''Returns True if all delimiters are properly match, False otherwise.'''\n",
    "    beg_dem = '({['\n",
    "    end_dem = ')}]'\n",
    "    S = LinkedListStack()\n",
    "    for c in expr:\n",
    "        if c in beg_dem:\n",
    "            S.push(c)\n",
    "        elif c in end_dem:\n",
    "            if S.isEmpty():\n",
    "                return False\n",
    "            if end_dem.index(c) != beg_dem.index(S.pop()):\n",
    "                return False\n",
    "    return S.isEmpty()\n"
   ]
  },
  {
   "cell_type": "markdown",
   "metadata": {},
   "source": [
    "#### Question 8 [2 marks].\n",
    "(a) What is the worst case running time of the *is_matched()* function? <br>\n",
    "(b) Write a code snippet to validate the following expressions.\n",
    "- (a+b-[{c/d}+{e\\*f}]\\*3)\n",
    "- (a+b[{}"
   ]
  },
  {
   "cell_type": "code",
   "execution_count": 10,
   "metadata": {
    "collapsed": false
   },
   "outputs": [
    {
     "name": "stdout",
     "output_type": "stream",
     "text": [
      "True\n",
      "True\n",
      "True\n",
      "False\n"
     ]
    }
   ],
   "source": [
    "### TODO.Q8\n",
    "\n",
    "\n",
    "#######(a). O(n)\n",
    "\n",
    "#######(b).\n",
    "\n",
    "a = '(a)'\n",
    "print(is_matched(a))\n",
    "\n",
    "print(is_matched('[(5+x)−(y+z)][(5+x)−(y+z)] '))\n",
    "\n",
    "print(is_matched(\"(a+b-[{c/d}+{e*f}]*3)\"))\n",
    "\n",
    "print(is_matched(\"(a+b[{}\"))"
   ]
  },
  {
   "cell_type": "markdown",
   "metadata": {},
   "source": [
    "<hr>\n",
    "## Programming Quiz 4 [10  marks]\n",
    "**Postfix notation** is an unambiguous way of writing an arithmetic expression without parentheses. It is defined so that if “$(exp_1)op(exp_2)$” is a normal, fully parenthesized expression whose operation is $op$, the postfix version of this is “$pexp_1 pexp_2 op$”, where $pexp_1$ is the postfix version of $exp_1$ and $pexp_2$ is the postfix version of $exp_2$. The postfix version of a single number or variable is just that number or variable. For example, the postfix version of “$((5 + 2) * (8 − 3))/4$” is “$5$ $2$ $+$ $8$ $3$ $−*4/$”.\n",
    "\n",
    "Write a Python function for evaluating a postfix expression.\n",
    "Assume that the legal operators consist of $+ - *$ $/$ and that the operands are integer numbers. The input parameter is a list of operands and operators of the postfix notation to be evaluated. Test your program with the following input.\n",
    "\n",
    "(a) [5, 2, '+', 8, 3, '-', '\\*', 5, '/']\n",
    "<br>\n",
    "(b) [10, 9, 3, '+', '\\*', 2, '/'] \n",
    "<br>\n",
    "(c) [9, 8, '-', 0, '/']\n",
    "<br>\n",
    "(d) [9, 13,'+', -2, '@']\n",
    "<br>\n",
    "(e) [9.9, 8, '/', 10, '-']\n",
    "<br>\n",
    "(f) [5, 2, '+', 8]"
   ]
  },
  {
   "cell_type": "code",
   "execution_count": 11,
   "metadata": {
    "collapsed": false
   },
   "outputs": [
    {
     "name": "stdout",
     "output_type": "stream",
     "text": [
      "7.0\n",
      "60.0\n",
      "Division by zero\n",
      "Wrong syntax\n",
      "Wrong syntax\n",
      "Wrong syntax\n"
     ]
    }
   ],
   "source": [
    "### TODO.P4\n",
    "def main():\n",
    "    str1 = [5,2,'+',8,3,'-','*',5,'/']\n",
    "    str2 = [10, 9, 3, '+', '*', 2, '/']\n",
    "    str3 = [9, 8, '-', 0, '/']\n",
    "    str4 = [9, 13,'+', -2, '@']\n",
    "    str5 = [9.9, 8, '/', 10, '-']\n",
    "    str6 = [5, 2, '+', 8]\n",
    "\n",
    "\n",
    "    option = ['+','-','*','/']\n",
    "\n",
    "    \n",
    "    print(do(str1,option))\n",
    "    print(do(str2,option))\n",
    "    print(do(str3,option))\n",
    "    print(do(str4,option))\n",
    "    print(do(str5,option))\n",
    "    print(do(str6,option))\n",
    "    \n",
    "\n",
    "\n",
    "\n",
    "\n",
    "def do(strtest,opp):\n",
    "\n",
    "    newstack = LinkedListStack()\n",
    "    \n",
    "    lenstr = len(strtest)-1\n",
    "    for i in range(lenstr,-1,-1):\n",
    "        a = strtest.pop()\n",
    "        newstack.push(a)\n",
    "\n",
    "        \n",
    "    try:\n",
    "\n",
    "        \n",
    "        newnum = LinkedListStack()\n",
    "        while(len(newstack) >=1):\n",
    "            i = newstack.pop()\n",
    "\n",
    "            if(isinstance(i,int)):\n",
    "                newnum.push(i)\n",
    "                continue\n",
    "            elif(i in opp):\n",
    "                a = newnum.pop()\n",
    "                b = newnum.pop()\n",
    "                if(i == '/'):\n",
    "                    result = b/a\n",
    "                    newnum.push(result)\n",
    "                    continue\n",
    "                elif(i == '*'):\n",
    "\n",
    "                    result = a*b\n",
    "                    newnum.push(result)\n",
    "                    continue\n",
    "                elif(i == '+'):\n",
    "\n",
    "                    result = a+b\n",
    "                    newnum.push(result)\n",
    "                    continue\n",
    "                elif(i == '-'):\n",
    "\n",
    "                    result = b-a\n",
    "                    newnum.push(result)\n",
    "                    continue\n",
    "            else:\n",
    " \n",
    "                return \"Wrong syntax\"\n",
    "                \n",
    "        if(len(newnum)>1):\n",
    "            return \"Wrong syntax\"\n",
    "        return newnum.pop()\n",
    "    except ZeroDivisionError:\n",
    "         \n",
    "        return \"Division by zero\"\n",
    "            \n",
    "        \n",
    "main()"
   ]
  },
  {
   "cell_type": "code",
   "execution_count": null,
   "metadata": {
    "collapsed": true
   },
   "outputs": [],
   "source": []
  }
 ],
 "metadata": {
  "anaconda-cloud": {},
  "kernelspec": {
   "display_name": "Python [dsalab]",
   "language": "python",
   "name": "Python [dsalab]"
  },
  "language_info": {
   "codemirror_mode": {
    "name": "ipython",
    "version": 3
   },
   "file_extension": ".py",
   "mimetype": "text/x-python",
   "name": "python",
   "nbconvert_exporter": "python",
   "pygments_lexer": "ipython3",
   "version": "3.5.2"
  }
 },
 "nbformat": 4,
 "nbformat_minor": 0
}
