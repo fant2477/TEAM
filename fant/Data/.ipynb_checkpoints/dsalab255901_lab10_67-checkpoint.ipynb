{
 "cells": [
  {
   "cell_type": "markdown",
   "metadata": {},
   "source": [
    "13016213 Data Structures and Algorithms Laboratory\n",
    "\n",
    "**NOTE** click here to select this cell, press Esc-Enter to enter cell edit mode, press Shift-Enter to put the cell back to display mode.\n",
    "\n",
    "#### Name: Nattanun Aramchatmongkol\n",
    "\n",
    "#### Student ID: 58090067\n",
    "<hr />\n",
    "Laboratory 10: Sorting\n",
    "==="
   ]
  },
  {
   "cell_type": "markdown",
   "metadata": {},
   "source": [
    "## Overview\n"
   ]
  },
  {
   "cell_type": "markdown",
   "metadata": {
    "collapsed": true
   },
   "source": [
    "This laboratory focuses on algorithms that solve the ***sorting problem***, which can be formally define as follows.\n",
    "\n",
    "**Input:**  A sequence of $n$ numbers $\\langle a_1, a_2, ..., a_n \\rangle$. <br />\n",
    "**Output:** A permutation (reordering) $\\langle a_1^\\prime, a_2^\\prime, ..., a_n^\\prime \\rangle$ of the input sequence such that $a_1^\\prime \\leq a_2^\\prime \\leq ... \\leq a_n^\\prime$\n",
    "\n",
    "For example, given the input sequence $\\langle 10, 23, 51, 18, 4, 31, 13, 5 \\rangle$, a sorting algorithm return as output the sequence $\\langle 4, 5, 10, 13, 18, 23, 31, 51 \\rangle$.\n",
    "\n",
    "Python provides the following built-in support for sorting data:\n",
    "* The `sort` method of the list class: rearranges the contents of a list object.\n",
    "* The built-in `sorted` function that produces a *new* list containing the elements of an arbitrary collection in sorted order.\n",
    "\n",
    "Python built-in sorting uses an advanced sorting algorithm (called Timsort: https://en.wikipedia.org/wiki/Timsort) that is based on *insertion sort* and *merge sort* algorithms. It is optimized for real-world data, you should typically rely on calls to the built-in sorting fucntions instead of implementing your own sorting algorithm from scratch.\n",
    "\n",
    "Nevertheless, it remains important to study sorting algorithms as the ideas and approaches employed in these algorithms are being applied to many other areas of algorithm development.  \n",
    "\n",
    "In this laboratory, we introduce three sorting algorithms:\n",
    "* Insertion-sort\n",
    "* Merge-sort\n",
    "* Quick-sort"
   ]
  },
  {
   "cell_type": "code",
   "execution_count": 1,
   "metadata": {
    "collapsed": false
   },
   "outputs": [
    {
     "name": "stdout",
     "output_type": "stream",
     "text": [
      "Using Python's built-in support to sort the sequence\n",
      "L = <10, 23, 51, 18, 4, 31, 13, 5>\n",
      "\n",
      "using list's method:\n",
      " [4, 5, 10, 13, 18, 23, 31, 51] \n",
      "\n",
      "using built-in list function:\n",
      " [4, 5, 10, 13, 18, 23, 31, 51]\n"
     ]
    }
   ],
   "source": [
    "# Example: Using Python's built-in support to sort an integer sequence.\n",
    "\n",
    "L=[ 10, 23, 51, 18, 4, 31, 13, 5 ]\n",
    "print(\"Using Python's built-in support to sort the sequence\\nL = <%s>\\n\" % \n",
    "                      (', '.join(map(str, L))))\n",
    "\n",
    "# First, using the list's sort method:\n",
    "L1 = list(L)        # create a copy of the original list\n",
    "L1.sort()           # call the sort method\n",
    "\n",
    "print(\"using list's method:\\n\", L1, \"\\n\")\n",
    "\n",
    "# Second, using the built-in sorted function:\n",
    "L2 = sorted(L)\n",
    "print(\"using built-in list function:\\n\", L2)"
   ]
  },
  {
   "cell_type": "markdown",
   "metadata": {},
   "source": [
    "## Insertion Sort\n",
    "Insertion-sort is an efficient algorithm for sorting a small number of elements. It works the way many people sort a hand of playing cards. Let us consider five cards stacked in a deck face up:\n",
    "\n",
    "<img src=\"figs/1.png\" style=\"float: left\" />\n",
    "<br /><br /><br /><br />\n",
    "\n",
    "To sort the cards, we pick up the top card from the deck and place it in our hand:\n",
    "\n",
    "<img src=\"figs/2.png\" style=\"float: left\" />\n",
    "<br /><br /><br /><br />\n",
    "\n",
    "Then, we pick up the next top card from the deck, and compare it to the card already in our hand and insert it into its proper sorted postion:\n",
    "\n",
    "<img src=\"figs/3.png\" style=\"float: left\" />\n",
    "<br /><br /><br /><br /><br />\n",
    "\n",
    "Next, we pick up the 5 from top of the deck and finds it position within our hand and insert it in the proper place:\n",
    "\n",
    "<img src=\"figs/4.png\" style=\"float: left\" />\n",
    "<br /><br /><br /><br /><br />\n",
    "\n",
    "This process continues, one card at a time, until all of the cards have been removed from the table and placed into our hand in their proper sorted positon.\n",
    "\n",
    "<img src=\"figs/5.png\" style=\"float: left\" />\n",
    "<br /><br /><br /><br /><br /><br /><br />\n",
    "\n",
    "The pseudocode for insertion sort is presented in Algorithm 1. The `INSERTION-SORT` procedure takes as a parameter an array `A[1..n]` containing a sequence of length `n` that is to be sorted. \n",
    "\n",
    "**Algorithm 1. Insertion Sort**\n",
    "```                                                       \n",
    "INSERTION-SORT(A)                                         \n",
    "1    for j = 2 to A.length    // n = A.length\n",
    "2        key = A[j]\n",
    "3        // Insert A[j] into the sorted sequence A[1..j-1]\n",
    "4        i = j - 1\n",
    "5        while i > 0 and A[i] > key\n",
    "6            A[i + 1] = A[i]\n",
    "7            i = i - 1\n",
    "8        A[i + 1] = key\n",
    "``` \n"
   ]
  },
  {
   "cell_type": "markdown",
   "metadata": {},
   "source": [
    "### Question 1 [4 marks].\n",
    "Implement the insertion-sort algorithm using Python. Test your implementation with the following input sequences.\n",
    "* seq1 = $\\langle 10, 23, 51, 18, 4, 31, 13, 5 \\rangle$ <br />\n",
    "* seq2 = $\\langle 31, 41, 59, 26, 41, 58, 23, 64, 29\\rangle$ <br />\n",
    "* seq3 = $\\langle 1, 2, 3, 4, 5, 6, 7, 8\\rangle$ <br />\n",
    "* seq4 = $\\langle 8, 7, 6, 5, 4, 3, 2, 1\\rangle$ <br />"
   ]
  },
  {
   "cell_type": "code",
   "execution_count": 2,
   "metadata": {
    "collapsed": false
   },
   "outputs": [
    {
     "name": "stdout",
     "output_type": "stream",
     "text": [
      "seq1 after sort: \n",
      "[4, 5, 10, 13, 18, 23, 31, 51]\n",
      "seq2 after sort: \n",
      "[23, 26, 29, 31, 41, 41, 58, 59, 64]\n",
      "seq3 after sort: \n",
      "[1, 2, 3, 4, 5, 6, 7, 8]\n",
      "seq4 after sort: \n",
      "[1, 2, 3, 4, 5, 6, 7, 8]\n"
     ]
    }
   ],
   "source": [
    "### TODO.Q1\n",
    "def INSERTION_SORT(A):     \n",
    "    for j in range(1 , len(A)):    # n = A.length\n",
    "        key = A[j]\n",
    "       \n",
    "    #Insert A[j] into the sorted sequence A[1..j-1]\n",
    "        i = j - 1\n",
    "        \n",
    "        while i >= 0 and A[i] > key:\n",
    "            A[i + 1] = A[i]\n",
    "            i = i - 1\n",
    "        A[i + 1] = key\n",
    "    return A\n",
    "\n",
    "\n",
    "\n",
    "seq1 =  [10,23,51,18,4,31,13,5]\n",
    "print(\"seq1 after sort: \")\n",
    "print(INSERTION_SORT(seq1))\n",
    "print(\"seq2 after sort: \")\n",
    "seq2 =  [31,41,59,26,41,58,23,64,29]\n",
    "print(INSERTION_SORT(seq2))\n",
    "print(\"seq3 after sort: \")\n",
    "seq3 =  [1,2,3,4,5,6,7,8]\n",
    "print(INSERTION_SORT(seq3))\n",
    "print(\"seq4 after sort: \")\n",
    "seq4 =  [8,7,6,5,4,3,2,1]\n",
    "print(INSERTION_SORT(seq4))"
   ]
  },
  {
   "cell_type": "markdown",
   "metadata": {},
   "source": [
    "## Question 2 [2 marks].\n",
    "Rewrite your insertion_sort function to sort into ***non-increasing*** instead of non-decreasing order. Test your implementation with the input sequences provided in Question 1."
   ]
  },
  {
   "cell_type": "code",
   "execution_count": 3,
   "metadata": {
    "collapsed": false
   },
   "outputs": [
    {
     "name": "stdout",
     "output_type": "stream",
     "text": [
      "seq1 after sort: \n",
      "[51, 31, 23, 18, 13, 10, 5, 4]\n",
      "seq2 after sort: \n",
      "[64, 59, 58, 41, 41, 31, 29, 26, 23]\n",
      "seq3 after sort: \n",
      "[8, 7, 6, 5, 4, 3, 2, 1]\n",
      "seq4 after sort: \n",
      "[8, 7, 6, 5, 4, 3, 2, 1]\n"
     ]
    }
   ],
   "source": [
    "### TODO.Q2\n",
    "\n",
    "def DEINSERTION_SORT(A):     \n",
    "    for j in range(1 , len(A)):    # n = A.length\n",
    "        key = A[j]\n",
    "    #Insert A[j] into the sorted sequence A[1..j-1]\n",
    "        i = j - 1\n",
    "        while i >= 0 and A[i] < key:\n",
    "            A[i + 1] = A[i]\n",
    "            i = i - 1\n",
    "        A[i + 1] = key\n",
    "    return A\n",
    "\n",
    "\n",
    "\n",
    "seq1 =  [10,23,51,18,4,31,13,5]\n",
    "print(\"seq1 after sort: \")\n",
    "print(DEINSERTION_SORT(seq1))\n",
    "print(\"seq2 after sort: \")\n",
    "seq2 =  [31,41,59,26,41,58,23,64,29]\n",
    "print(DEINSERTION_SORT(seq2))\n",
    "print(\"seq3 after sort: \")\n",
    "seq3 =  [1,2,3,4,5,6,7,8]\n",
    "print(DEINSERTION_SORT(seq3))\n",
    "print(\"seq4 after sort: \")\n",
    "seq4 =  [8,7,6,5,4,3,2,1]\n",
    "print(DEINSERTION_SORT(seq4))"
   ]
  },
  {
   "cell_type": "markdown",
   "metadata": {},
   "source": [
    "<hr />\n",
    "## Merge Sort\n",
    "\n",
    "The ***merge sort*** algorithm use recursion in an algorithm design paradigm called ***divide-and-conquer***. The merge-sort algorithm operates as follows.\n",
    "\n",
    "**Divide:** Divide the $n$-element sequence to be sorted into two subsequences of $n/2$ eleemnts each. <br />\n",
    "**Conquer:** Sort the two subsequences recursively using merge sort. <br />\n",
    "**Combine:** Merge the two sorted sequences to produce the sorted answer. <br />\n",
    "\n",
    "As an illustration of the merge-sort algorithm, consider a list of integer values $\\langle 10, 23, 51, 18, 4, 31, 13, 5 \\rangle$ in Figure 1. The list is first divided into two sublists: $\\langle 10, 23, 51, 18 \\rangle$ and $\\langle 4, 31, 13, 5 \\rangle$. Then, these two sublists are divided in a similar fashion into four sublists and those four are finally divided into eight sublists. \n",
    "\n",
    "<br />\n",
    "<center>\n",
    "<img src=\"figs/fig1.png\" />\n",
    "<br />\n",
    "<b>Figure 1.</b> Recursively dividing a list until obtaining single-element sublists. \n",
    "</center>\n",
    "<br />\n",
    "\n",
    "After the list has been divided into single-element sublists, the sublists are merged back together, two at a time, to create new sorted lists of size $2$. These soreted sublists are merged to create larger and larger sorted sublists until a sorted sequence of the original list has been constructed. This process is illustrated in Figure 2.\n",
    "\n",
    "<br />\n",
    "<center>\n",
    "<img src=\"figs/fig2.png\" />\n",
    "<br />\n",
    "<b>Figure 2.</b> Merging sublists to produce the sorted answer. <br />The lengths of the sorted sequences being merged increase as the algorithm progresses from top to bottom. \n",
    "</center>\n",
    "<br />\n",
    "\n",
    "Psuedocode of the merge-sort algorithm is presented in Algorithm 2.\n",
    "\n",
    "\n",
    "**Algorithm 2. Merge Sort**\n",
    "\n",
    "`\n",
    "MERGE(A, p, q, r)\n",
    " 1    n1 = q - p + 1                 // length of the first sublist\n",
    " 2    n2 = r - q                     // length of the second sublist\n",
    " 3    let L[1..n1 + 1] and R[1..n2 + 1] be new arrays\n",
    " 4    for i = 1 to n1\n",
    " 5        L[i] = A[p + i - 1]        // copy A[1..q] to L\n",
    " 6    for j = 1 to n2 \n",
    " 7        R[j] = A[q + j]            // copy A[q+1..r] to R\n",
    " 8    L[n1 + 1] = Infinity           // a sentinel marking the end of the sequence\n",
    " 9    R[n2 + 1] = Infinity           // a sentinel marking the end of the sequence\n",
    "10    i = 1\n",
    "11    j = 1\n",
    "12    for k = p to r                 // select the smaller of the two elements: L[i] and R[j]\n",
    "13        if L[i] <= R[j]            \n",
    "14            A[k] = L[i]\n",
    "15            i = i + 1\n",
    "16        else \n",
    "17            A[k] = R[j]\n",
    "18            j = j + 1\n",
    "`\n",
    "\n",
    "\n",
    "`\n",
    "MERGE-SORT(A, p, r)\n",
    "1    if p < r\n",
    "2        q = `$\\lfloor (p + r)/2 \\rfloor$<br />\n",
    "`\n",
    "3        MERGE-SORT(A, p, q)\n",
    "4        MERGE-SORT(A, q + 1, r)\n",
    "5        MERGE(A, p, q, r)\n",
    "`\n",
    "\n"
   ]
  },
  {
   "cell_type": "markdown",
   "metadata": {},
   "source": [
    "### Question 3 [6 marks].\n",
    "Implement the merge-sort algorithm using Python. Test your implementation with the following input sequences.\n",
    "* seq1 = $\\langle 10, 23, 51, 18, 4, 31, 13, 5 \\rangle$ <br />\n",
    "* seq2 = $\\langle 31, 41, 59, 26, 41, 58, 23, 64, 29\\rangle$ <br />\n",
    "* seq3 = $\\langle 1, 2, 3, 4, 5, 6, 7, 8\\rangle$ <br />\n",
    "* seq4 = $\\langle 8, 7, 6, 5, 4, 3, 2, 1\\rangle$ <br />"
   ]
  },
  {
   "cell_type": "code",
   "execution_count": 4,
   "metadata": {
    "collapsed": false
   },
   "outputs": [
    {
     "name": "stdout",
     "output_type": "stream",
     "text": [
      "seq1 after sort: \n",
      "[4, 5, 10, 13, 18, 23, 31, 51]\n",
      "seq2 after sort: \n",
      "[23, 26, 29, 31, 41, 41, 58, 59, 64]\n",
      "seq3 after sort: \n",
      "[1, 2, 3, 4, 5, 6, 7, 8]\n",
      "seq4 after sort: \n",
      "[1, 2, 3, 4, 5, 6, 7, 8]\n"
     ]
    }
   ],
   "source": [
    "### TODO.Q3\n",
    "import math\n",
    "\n",
    "def MERGE(A, p, q, r):\n",
    "    n1 = q - p + 1                 # length of the first sublist\n",
    "    n2 = r - q                     # length of the second sublist\n",
    "    L = []\n",
    "    R = []\n",
    "    #L = [n1 + 1]\n",
    "    #R = [n2 + 1]\n",
    "    for i in range(0,n1+2):\n",
    "        L.append(0)\n",
    "    for j in range(0, n2+2):\n",
    "        R.append(0)\n",
    "    #let L[1..n1 + 1] and R[1..n2 + 1] be new arrays\n",
    "    for i in range(1,n1 + 1):\n",
    "        L[i] = A[p + i - 1]        # copy A[1..q] to L\n",
    "    for j in range(1,n2 + 1):\n",
    "        R[j] = A[q + j]            # copy A[q+1..r] to R\n",
    "    L[n1+1] = math.inf           # a sentinel marking the end of the sequence\n",
    "    R[n2+1] = math.inf          # a sentinel marking the end of the sequence\n",
    "    i = 1\n",
    "    j = 1\n",
    "    for k in range(p,r+1):             # select the smaller of the two elements: L[i] and R[j]\n",
    "        if(L[i]<=R[j]):          \n",
    "            A[k] = L[i]\n",
    "            i = i + 1\n",
    "        else :\n",
    "            A[k] = R[j]\n",
    "            j = j + 1\n",
    "    \n",
    "          \n",
    "def MERGE_SORT(A, p, r):\n",
    "    if p < r:\n",
    "        q = ((p+r)//2)\n",
    "        MERGE_SORT(A, p, q)\n",
    "        MERGE_SORT(A, q + 1, r)\n",
    "        MERGE(A, p, q, r)\n",
    "    return A\n",
    "        \n",
    "        \n",
    "seq1 =  [10,23,51,18,4,31,13,5]\n",
    "print(\"seq1 after sort: \")\n",
    "print(MERGE_SORT(seq1,0,len(seq1)-1))\n",
    "\n",
    "print(\"seq2 after sort: \")\n",
    "seq2 =  [31,41,59,26,41,58,23,64,29]\n",
    "print(MERGE_SORT(seq2,0,len(seq2)-1))\n",
    "\n",
    "print(\"seq3 after sort: \")\n",
    "seq3 =  [1,2,3,4,5,6,7,8]\n",
    "print(MERGE_SORT(seq3,0,len(seq3)-1))\n",
    "\n",
    "print(\"seq4 after sort: \")\n",
    "seq4 =  [8,7,6,5,4,3,2,1]\n",
    "print(MERGE_SORT(seq4,0,len(seq4)-1))"
   ]
  },
  {
   "cell_type": "markdown",
   "metadata": {},
   "source": [
    "<hr />\n",
    "## Quick Sort\n",
    "\n",
    "***Quick sort***, like merge sort, follows the divide-and-conquer paradigm. Unlike merge sort which divides the sequence at the midpoint, the quick sort algorithm partitions the sequence by dividing it into two portions based on a *pivot key*. The divide-and-conquer quick-sort process for sorting an array $A[p..r]$ is as follows.\n",
    "\n",
    "**Divide:** Partition the array $A[p..r]$ into two (possibly empty) subarrays $A[p..q-1]$ and $A[q+1..r]$ such that element of $A[p .. q - 1]$ is less than or equal to $A[q]$, which is, in turn, less than or equal to each element of $A[q + 1..r]$. compute the index $q$ as part of this partitioning procedure. \n",
    "<br />\n",
    "**Conquer:** Sort the two subarrays $A[p..q - 1]$ and $A[q + 1..r]$ by recursive calls to quicksort.\n",
    "<br />\n",
    "**Combine:** Because the subarrays are already sorted, no work is needed to combine them: the entire array $A[p..r]$ is now sorted.\n",
    "<br />\n",
    "\n",
    "The following pseudocode implements quicksort algorithm.\n",
    "\n",
    "\n",
    "**Algorithm 3. Quick Sort**\n",
    "\n",
    "```\n",
    "QUICKSORT(A, p, r)\n",
    "1    if p < r\n",
    "2        q = PARTITION(A, p, r)\n",
    "3        QUICKSORT(A, p, q - 1)\n",
    "4        QUICKSORT(A, q + 1, r)\n",
    "```\n",
    "\n",
    "\n",
    "### Partitioning the array\n",
    "\n",
    "The crucial part of the quick sort algorithm is the `PARTITION` procedure, which rearranges the subarray $A[p..r]$ in place. The `PARTITION` function rearranges the  array by correctly placing the pivot key within the sequence and placing all keys that are lessthan the pivot to the left and all keys that are greater to the right:\n",
    "\n",
    "<img src=\"figs/6.png\" style=\"float: left\" />\n",
    "<br />*pivot key= 10* <br /><br /><br />\n",
    "\n",
    "\n",
    "The final position ($pos$ in the figure above) indicates the position at which the sequence is split to create the two segments. The left segment consists of elements between the $first$ element and the $pos-1$ element while the right segment consists of the elements between $pos + 1$ and $last$, inclusive.\n",
    "\n",
    "The `PARTITION` procedure is presented in the Algorithm 4 below.\n",
    "\n",
    "\n",
    "**Algorithm 4. Partition Procedure of Quick Sort**\n",
    "\n",
    "```\n",
    "PARTITION(A, p, r)\n",
    "1    pivot = A[r]\n",
    "2    i = p - 1\n",
    "3    for j = p to r - 1\n",
    "4        if A[j] <= pivot\n",
    "5            i = i + 1\n",
    "6            exchange A[i] with A[j]\n",
    "7    exchange A[i + 1] with A[r]\n",
    "8    return i + 1\n",
    "```\n",
    "\n",
    "<br />\n",
    "Figure 3 shows how `PARTITION` works on an 8-element array. `PARTITION` always selects an element $x = A[r]$ as pivot element around which to partition $A[p..r]$. As the procedure runs, it partitions the array into four (possibly empty) regions:\n",
    "\n",
    "* $A[p..i]$ : all elements in this region are less than or equal to the pivot. \n",
    "<br />\n",
    "* $A[i + 1 .. j - 1]$ : all elements in this region are greater than $x$. \n",
    "<br />\n",
    "* $A[j..r -1]$ : all elements in this region have not yet been proceessed.\n",
    "<br />\n",
    "* $A[r]$ : the pivot.\n",
    "<br />\n",
    "\n",
    "<br />\n",
    "<center>\n",
    "<img src=\"figs/fig3.png\" />\n",
    "<br />\n",
    "<b>Figure 3.</b> Operations of $PARTITION$ on an 8-element array. Lightly shaded elements are all in the first partition with values **no** greater than $x$. Heavily shaded elements are in the second partition with values greater than $x$. The unshaded elements have not yet been put in one of the first two partitions, and the final white element is the pviot $x$. \n",
    "</center>\n",
    "<br />"
   ]
  },
  {
   "cell_type": "markdown",
   "metadata": {},
   "source": [
    "### Question 4 [6 marks].\n",
    "Implement the quicksort algorithm using Python. Test your implementation with the following input sequences.\n",
    "* seq1 = $\\langle 10, 23, 51, 18, 4, 31, 13, 5 \\rangle$ <br />\n",
    "* seq2 = $\\langle 31, 41, 59, 26, 41, 58, 23, 64, 29\\rangle$ <br />\n",
    "* seq3 = $\\langle 1, 2, 3, 4, 5, 6, 7, 8\\rangle$ <br />\n",
    "* seq4 = $\\langle 8, 7, 6, 5, 4, 3, 2, 1\\rangle$ <br />"
   ]
  },
  {
   "cell_type": "code",
   "execution_count": 10,
   "metadata": {
    "collapsed": false
   },
   "outputs": [
    {
     "name": "stdout",
     "output_type": "stream",
     "text": [
      "seq1 after sort: \n",
      "[4, 5, 10, 13, 18, 23, 31, 51]\n",
      "seq2 after sort: \n",
      "[23, 26, 29, 31, 41, 41, 58, 59, 64]\n",
      "seq3 after sort: \n",
      "[1, 2, 3, 4, 5, 6, 7, 8]\n",
      "seq4 after sort: \n",
      "[1, 2, 3, 4, 5, 6, 7, 8]\n"
     ]
    }
   ],
   "source": [
    "### TODO.Q4\n",
    "\n",
    "\n",
    "def QUICKSORT(A, p, r):\n",
    "    if p < r:\n",
    "        q = PARTITION(A, p, r)\n",
    "        QUICKSORT(A, p, q - 1)\n",
    "        QUICKSORT(A, q + 1, r)\n",
    "        return A\n",
    "\n",
    "\n",
    "def PARTITION(A, p, r):\n",
    "    pivot = A[r]\n",
    "    i = p - 1\n",
    "    for j in range(p,r):\n",
    "        if A[j] <= pivot:\n",
    "            i = i + 1\n",
    "            change = A[i]\n",
    "            A[i] = A[j]\n",
    "            A[j] = change\n",
    "    \n",
    "    change2 = A[i+1]\n",
    "    A[i+1] = A[r]\n",
    "    A[r] = change2\n",
    "    \n",
    "    return i + 1\n",
    "\n",
    "\n",
    "\n",
    "\n",
    "#########################################\n",
    "\n",
    "\n",
    "\n",
    "        \n",
    "        \n",
    "seq1 =  [10,23,51,18,4,31,13,5]\n",
    "print(\"seq1 after sort: \")\n",
    "print(QUICKSORT(seq1,0,len(seq1)-1))\n",
    "\n",
    "print(\"seq2 after sort: \")\n",
    "seq2 =  [31,41,59,26,41,58,23,64,29]\n",
    "print(QUICKSORT(seq2,0,len(seq2)-1))\n",
    "\n",
    "print(\"seq3 after sort: \")\n",
    "seq3 =  [1,2,3,4,5,6,7,8]\n",
    "print(QUICKSORT(seq3,0,len(seq3)-1))\n",
    "\n",
    "print(\"seq4 after sort: \")\n",
    "seq4 =  [8,7,6,5,4,3,2,1]\n",
    "print(QUICKSORT(seq4,0,len(seq4)-1))"
   ]
  },
  {
   "cell_type": "markdown",
   "metadata": {},
   "source": [
    "### Question 5 [2 marks].\n",
    "What are the expected running time of insertion sort, merge sort, and quick sort?"
   ]
  },
  {
   "cell_type": "code",
   "execution_count": 18,
   "metadata": {
    "collapsed": false
   },
   "outputs": [
    {
     "name": "stdout",
     "output_type": "stream",
     "text": [
      " the expected running time of insertion sort is O(n^2) \n",
      " the expected running time of merge sort is O(nlog(n)) \n",
      " the expected running time of quick sort is O(nlog(n)) \n"
     ]
    }
   ],
   "source": [
    "### TODO.Q5\n",
    "print(\" the expected running time of insertion sort is O(n^2) \")\n",
    "print(\" the expected running time of merge sort is O(nlog(n)) \")\n",
    "print(\" the expected running time of quick sort is O(nlog(n)) \")\n"
   ]
  },
  {
   "cell_type": "markdown",
   "metadata": {},
   "source": [
    "<hr />\n",
    "\n",
    "## Programming Project [10 marks]\n",
    "\n",
    "Experimentally compare the performance of `insertion_sort`, `merge_sort`, and `quick_sort` functions.\n"
   ]
  },
  {
   "cell_type": "code",
   "execution_count": 37,
   "metadata": {
    "collapsed": false
   },
   "outputs": [
    {
     "data": {
      "image/png": "[encoded data removed]",
      "text/plain": [
       "<matplotlib.figure.Figure at 0xb89a14ff98>"
      ]
     },
     "metadata": {},
     "output_type": "display_data"
    },
    {
     "data": {
      "image/png": "[encoded data removed]",
      "text/plain": [
       "<matplotlib.figure.Figure at 0xb89a0a2400>"
      ]
     },
     "metadata": {},
     "output_type": "display_data"
    }
   ],
   "source": [
    "### TODO.ProgrammingProject\n",
    "\n",
    "import random\n",
    "import time\n",
    "\n",
    "class Stopwatch:\n",
    "    def __init__(self):\n",
    "        self._creationTime = time.clock()\n",
    "    def elapsedTime(self):\n",
    "        return time.clock() - self._creationTime\n",
    "    \n",
    "    \n",
    "def check_insert(s):\n",
    "    watch = Stopwatch()\n",
    "    INSERTION_SORT(s)\n",
    "    elapsed_time = watch.elapsedTime()\n",
    "    return elapsed_time\n",
    "\n",
    "def check_merge(s):\n",
    "    watch = Stopwatch()\n",
    "    MERGE_SORT(s, 0, len(s)-1) \n",
    "    elapsed_time = watch.elapsedTime()\n",
    "    return elapsed_time\n",
    "\n",
    "def check_quick(s):\n",
    "    watch = Stopwatch()\n",
    "    QUICKSORT(s,  0, len(s)-1)\n",
    "    elapsed_time = watch.elapsedTime()\n",
    "    return elapsed_time\n",
    "\n",
    "for i in range(500):\n",
    "    rand = random.randint(0,500)\n",
    "    seq.append(rand)\n",
    "\n",
    "#print(check_insert(seq))\n",
    "#print(check_merge(seq))\n",
    "#print(check_quick(seq))\n",
    "\n",
    "\n",
    "\n",
    "import matplotlib.pyplot as plt\n",
    "%matplotlib inline\n",
    "\n",
    "\n",
    "XX = []\n",
    "Y1 = []\n",
    "Y2 = []\n",
    "Y3 = []\n",
    "check = []\n",
    "for i in range(500):\n",
    "    \n",
    "    XX.append(i)\n",
    "    check.append(seq[i])\n",
    "    Y1.append(check_insert(check))\n",
    "    Y2.append(check_merge(check))\n",
    "    Y3.append( check_quick(check))\n",
    "\n",
    "### put your code below\n",
    "plt.plot(XX, Y1, 'bo', XX, Y1, 'b',label = \"insertion sort\") ##Insertion Sort\n",
    "plt.plot(XX, Y2, 'go', XX, Y2, 'g',label = \"merger sort\") ##Merge Sort\n",
    "plt.plot(XX, Y3, 'ro', XX, Y3, 'r',label = \"quick sort\") ##Quick Sort\n",
    "plt.legend(loc = 'upper left')\n",
    "plt.grid(True)\n",
    "plt.title('Fig 1. Runtime-Average')\n",
    "plt.xlabel('Problem size [N]')\n",
    "plt.ylabel('Runtime T(N) (seconds)')\n",
    "plt.show()\n",
    "\n",
    "plt.loglog(XX, Y1, 'bo', XX, Y1, 'b',label = \"insertion sort\")\n",
    "plt.loglog(XX, Y2, 'go', XX, Y2, 'g',label = \"merger sort\")\n",
    "plt.loglog(XX, Y3, 'ro', XX, Y3, 'r',label = \"quick sort\")\n",
    "plt.legend(loc = 'upper left')\n",
    "plt.grid(True)\n",
    "plt.title('Fig 2. Runtime-Average [log-log plot]')\n",
    "plt.xlabel('lg N')\n",
    "plt.ylabel('lg T(N)')\n",
    "plt.show()\n"
   ]
  },
  {
   "cell_type": "code",
   "execution_count": null,
   "metadata": {
    "collapsed": true
   },
   "outputs": [],
   "source": []
  }
 ],
 "metadata": {
  "anaconda-cloud": {},
  "kernelspec": {
   "display_name": "Python [Root]",
   "language": "python",
   "name": "Python [Root]"
  },
  "language_info": {
   "codemirror_mode": {
    "name": "ipython",
    "version": 3
   },
   "file_extension": ".py",
   "mimetype": "text/x-python",
   "name": "python",
   "nbconvert_exporter": "python",
   "pygments_lexer": "ipython3",
   "version": "3.5.2"
  }
 },
 "nbformat": 4,
 "nbformat_minor": 0
}
