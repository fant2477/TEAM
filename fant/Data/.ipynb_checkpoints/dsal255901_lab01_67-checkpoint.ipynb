{
 "cells": [
  {
   "cell_type": "markdown",
   "metadata": {},
   "source": [
    "13016213 Data Structures and Algorithms Laboratory\n",
    "\n",
    "**NOTE** click here to select this cell, press Esc-Enter to enter cell edit mode, press Shift-Enter to put the cell back to display mode.\n",
    "\n",
    "#### Name: Nattanun Aramchatmongkol\n",
    "\n",
    "#### Student ID: 58090067\n",
    "\n",
    "Laboratory 1: Algorithm Analysis\n",
    "===\n",
    "\n",
    "## Overview\n",
    "\n",
    "In this course, we are interested in the design of \"efficient\" data structures and algorithms. **Running time** is a natural measure of \"efficiency\" of algorithms -- efficient algorithmic solutions should run as fast as possible.\n",
    "\n",
    "The running time of an algorithm depends on several complicating factors. However, in general, the running time of an algorithm and data structure operation increases with the input size.\n",
    "\n",
    "In this lab, we will study how to make quantitative measurements of running time as a function of the input size.\n",
    "\n",
    "## Experimental Studies of the Running Time\n",
    "Given an implementation of an algorithm, we can measure its running time by executing it on various test inputs and recording the time spent during each executing.\n",
    "\n",
    "A simple way to record execution time in Python is to use the clock() function in the time module, as shown in the **Stopwatch** class below."
   ]
  },
  {
   "cell_type": "code",
   "execution_count": 212,
   "metadata": {
    "collapsed": false
   },
   "outputs": [],
   "source": [
    "import time\n",
    "\n",
    "class Stopwatch:\n",
    "    def __init__(self):\n",
    "        self._creationTime = time.clock()\n",
    "    def elapsedTime(self):\n",
    "        return time.clock() - self._creationTime"
   ]
  },
  {
   "cell_type": "markdown",
   "metadata": {},
   "source": [
    "Measuring elapsed time of executing a block of code can be done easily with an addition of just two lines of source code.\n",
    "* at the begining of the code block, create the Stopwatch object.\n",
    "* at the end of the code block, call the elapsedTime() method of the Stopwatch object."
   ]
  },
  {
   "cell_type": "code",
   "execution_count": 213,
   "metadata": {
    "collapsed": true
   },
   "outputs": [],
   "source": [
    "def testStopwatch():\n",
    "    N = 1000\n",
    "    total = 0.0\n",
    "    \n",
    "    # create the Stopwatch object\n",
    "    watch1 = Stopwatch()\n",
    "    \n",
    "    ### Begin of Code Block ###\n",
    "    \n",
    "    for i in range(1,N+1):\n",
    "        total += i**2\n",
    "    \n",
    "    ### End of Code Block ###\n",
    "    \n",
    "    # stop the watch! by calling elapsedTime()\n",
    "    elapsed_time = watch1.elapsedTime()\n",
    "    \n",
    "    print(\"It took {0} seconds to execute the code.\".format(elapsed_time))    "
   ]
  },
  {
   "cell_type": "code",
   "execution_count": 214,
   "metadata": {
    "collapsed": false
   },
   "outputs": [
    {
     "name": "stdout",
     "output_type": "stream",
     "text": [
      "It took 0.001693504167633364 seconds to execute the code.\n"
     ]
    }
   ],
   "source": [
    "### TODO 1\n",
    "# 1. call the testStopwatch() function typing 'testStopwatch()'\n",
    "# 2. press 'shift-Enter' to execute the instruction\n",
    "\n",
    "\n",
    "testStopwatch()"
   ]
  },
  {
   "cell_type": "markdown",
   "metadata": {},
   "source": [
    "## Case Study: Three-Sum Problem\n",
    "\n",
    "As an example, let us use the Stopwatch class to measure the running time of a function **ThreeSum** below. The function counts the number of triples in an input array of N integers that sum to $0$. "
   ]
  },
  {
   "cell_type": "code",
   "execution_count": 215,
   "metadata": {
    "collapsed": false
   },
   "outputs": [],
   "source": [
    "def ThreeSum(A):\n",
    "    \"\"\"Count triples in A that sum to 0.\n",
    "        A    input array of integers.\n",
    "    \n",
    "    Returns:\n",
    "        cnt  count of triples that sum to 0.\n",
    "    \"\"\"\n",
    "    N = len(A)\n",
    "    cnt = 0\n",
    "    for i in range(N):\n",
    "        for j in range(i + 1, N):\n",
    "            for k in range(j + 1, N):\n",
    "                if A[i] + A[j] + A[k] == 0: \n",
    "                    cnt += 1\n",
    "                    \n",
    "    return cnt"
   ]
  },
  {
   "cell_type": "markdown",
   "metadata": {},
   "source": [
    "Let's start with a small input size of $8$ integers."
   ]
  },
  {
   "cell_type": "code",
   "execution_count": 216,
   "metadata": {
    "collapsed": false
   },
   "outputs": [
    {
     "data": {
      "text/plain": [
       "4"
      ]
     },
     "execution_count": 216,
     "metadata": {},
     "output_type": "execute_result"
    }
   ],
   "source": [
    "# define an array of 8 integers\n",
    "A = [30, -30, -20, -10, 40, 0, 10, 5]\n",
    "\n",
    "### TODO 2\n",
    "# call ThreeSum with input A \n",
    "# Press shift-Enter to see the result\n",
    "# You should see \"4\" on the Out[.] cell.\n",
    "\n",
    "ThreeSum(A)\n"
   ]
  },
  {
   "cell_type": "markdown",
   "metadata": {},
   "source": [
    "### Measuring the Running Time of ThreeSum\n",
    "\n",
    "As stated earlier, we are interested in finding the relationships between the running time of the algorithm and the input size $N$. This can be achieved by executing the algorithm over the input data of various sizes and plotting the running time against the input size.\n",
    "\n",
    "To automate our experiment, we need to write some helper functions. First, we need to be able to generate a 1-D array of $N$ random integers. "
   ]
  },
  {
   "cell_type": "code",
   "execution_count": 217,
   "metadata": {
    "collapsed": false
   },
   "outputs": [],
   "source": [
    "### TODO 3\n",
    "# Implement the function uniformInts.\n",
    "\n",
    "import random\n",
    "\n",
    "def uniformInts(N, a, b):\n",
    "    \"\"\"Generate a list of N integers selected uniformly from range [a, b]\n",
    "        N  size of the output array (i.e. the number of integers to be generated)\n",
    "        a  lower bound of the random integer\n",
    "        b  upper bound of the random integer\n",
    "    \n",
    "    Returns:\n",
    "        A  array of N integers (a <= A[i] <= b)\n",
    "    \"\"\"\n",
    "    # replace the 'pass' statement with your code\n",
    "\n",
    "    A = []\n",
    "    for i in range(N):\n",
    "        c = random.randint(a,b)\n",
    "        A.append(c)\n",
    "\n",
    "\n",
    "    return A\n",
    "\n",
    "\n"
   ]
  },
  {
   "cell_type": "markdown",
   "metadata": {},
   "source": [
    "After implementing the function *uniformInts*, test your implementation by executing code provided in the next cell."
   ]
  },
  {
   "cell_type": "code",
   "execution_count": 218,
   "metadata": {
    "collapsed": false
   },
   "outputs": [
    {
     "data": {
      "text/plain": [
       "[28, 850, -538, 444, -394, -166, 751, -181]"
      ]
     },
     "execution_count": 218,
     "metadata": {},
     "output_type": "execute_result"
    }
   ],
   "source": [
    "### TODO 4\n",
    "#\n",
    "# Generate an array of 8 integers from -1000 to 1000\n",
    "# \n",
    "# call the uniformInts function\n",
    "# press shift-Enter to execute your code\n",
    "\n",
    "uniformInts(8, -1000, 1000)\n"
   ]
  },
  {
   "cell_type": "markdown",
   "metadata": {},
   "source": [
    "Next, we implement the *timeTrial()* function that would execute and measure running time of *an instance* of the three-sum problem."
   ]
  },
  {
   "cell_type": "code",
   "execution_count": 219,
   "metadata": {
    "collapsed": false
   },
   "outputs": [
    {
     "data": {
      "text/plain": [
       "0.00018908822676166892"
      ]
     },
     "execution_count": 219,
     "metadata": {},
     "output_type": "execute_result"
    }
   ],
   "source": [
    "### TODO 5\n",
    "#\n",
    "# Add stopwatch to the following function so that we can measure elapsed time \n",
    "# of executing the function ThreeSum(A)\n",
    "#\n",
    "\n",
    "def timeTrial(n):\n",
    "    \"\"\"Measure time to solve an instance three-sum problem of size n.\n",
    "        n    the problem size (i.e. the number of integers)\n",
    "    \n",
    "    Returns:\n",
    "        elasped_time    the estimated execution time of ThreeSum \n",
    "    \n",
    "    \"\"\"\n",
    "    \n",
    "    watch1 = Stopwatch()\n",
    "    A = uniformInts(n, -1000, 1000)\n",
    "    elapsed_time = 0\n",
    "    \n",
    "    \n",
    "    ###\n",
    "    count = ThreeSum(A)\n",
    "    ###\n",
    "    elapsed_time = watch1.elapsedTime()\n",
    "    \n",
    "    return elapsed_time\n",
    "\n",
    "timeTrial(8)"
   ]
  },
  {
   "cell_type": "markdown",
   "metadata": {},
   "source": [
    "As the final step, we write a function for executing and measuring the running time of the ThreeSum function at various input size. "
   ]
  },
  {
   "cell_type": "code",
   "execution_count": 220,
   "metadata": {
    "collapsed": true
   },
   "outputs": [],
   "source": [
    "def runtimeTest(maxN=512):\n",
    "    \"\"\"Measure runtime to solve three-sum problem of various size.\n",
    "    \n",
    "    Returns:\n",
    "        X  a list of problem size\n",
    "        Y  a list of time taken to solve three-sum \n",
    "    \"\"\"\n",
    "    X = []\n",
    "    Y = []\n",
    "    # start with 4 integers\n",
    "    n = 4\n",
    "    while True:\n",
    "        X.append(n)\n",
    "        Y.append(timeTrial(n))\n",
    "        n *= 2\n",
    "        if n > maxN: break\n",
    "            \n",
    "    return X, Y"
   ]
  },
  {
   "cell_type": "code",
   "execution_count": 221,
   "metadata": {
    "collapsed": false
   },
   "outputs": [
    {
     "name": "stdout",
     "output_type": "stream",
     "text": [
      "[4, 8, 16, 32]\n",
      "[8.882015026756562e-05, 0.00015158638780121692, 0.0006612166616832837, 0.004255866770108696]\n"
     ]
    }
   ],
   "source": [
    "### TODO 6\n",
    "#\n",
    "# execute the function runtimeTest, with maxN=32\n",
    "\n",
    "X, Y = runtimeTest(32)\n",
    "\n",
    "# check your result, by press shift-Enter\n",
    "# you should see a list of integer (X; input size), and a list of real numbers (Y; elapsed time)\n",
    "\n",
    "print(X)\n",
    "print(Y)"
   ]
  },
  {
   "cell_type": "code",
   "execution_count": 222,
   "metadata": {
    "collapsed": false
   },
   "outputs": [
    {
     "name": "stdout",
     "output_type": "stream",
     "text": [
      "[4, 8, 16, 32, 64, 128, 256, 512, 1024]\n",
      "[8.84253931872081e-05, 0.0001496126060374081, 0.0006655589822912589, 0.0041907319937308785, 0.025330716885946458, 0.06530373135319678, 0.39140315702024964, 3.4527285352305626, 27.889992100925156]\n"
     ]
    }
   ],
   "source": [
    "### TODO 7\n",
    "# \n",
    "# execute the function runtimeTest, with maxN=1024\n",
    "\n",
    "X, Y = runtimeTest(1024)\n",
    "\n",
    "# before proceeding to the next step, make sure that \n",
    "## your X variable contains [4, 8, 16, 32, 64, 128, 256, 512, 1024]\n",
    "## your Y variable contains runnting time of each execution instance.\n",
    "print(X)\n",
    "print(Y)\n"
   ]
  },
  {
   "cell_type": "markdown",
   "metadata": {},
   "source": [
    "### Visualizing your Experimental Results\n",
    "\n",
    "Now that we have the data relating the running time of ThreeSum function to the input size, the most intuitive way to study how our simple algorithm performs is by plotting the running time of each execution against the input size.\n",
    "\n",
    "In Python, we can use the *matplotlib* library to programmatically plot our data. \n",
    "First we need to import the library:"
   ]
  },
  {
   "cell_type": "code",
   "execution_count": 223,
   "metadata": {
    "collapsed": true
   },
   "outputs": [],
   "source": [
    "# First, import the library\n",
    "import matplotlib.pyplot as plt\n",
    "# this line tells iPython to show the plot inside the Notebook\n",
    "%matplotlib inline\n"
   ]
  },
  {
   "cell_type": "markdown",
   "metadata": {},
   "source": [
    "To plot the data on a normal scale, execute the following instructions."
   ]
  },
  {
   "cell_type": "code",
   "execution_count": 224,
   "metadata": {
    "collapsed": false
   },
   "outputs": [
    {
     "data": {
      "image/png": "[encoded data removed]",
      "text/plain": [
       "<matplotlib.figure.Figure at 0xf7a6f2fb00>"
      ]
     },
     "metadata": {},
     "output_type": "display_data"
    }
   ],
   "source": [
    "# Normal-scale plot\n",
    "\n",
    "plt.plot(X, Y, 'bo', X, Y, 'k')\n",
    "plt.grid(True)\n",
    "plt.title('Fig 1. Runtime of ThreeSum')\n",
    "plt.xlabel('Problem size [N]')\n",
    "plt.ylabel('Runtime T(N) (seconds)')\n",
    "plt.show()"
   ]
  },
  {
   "cell_type": "markdown",
   "metadata": {},
   "source": [
    "As can be seen from the above plot, reasoning about the relationship between running time and the problem size using the normal scale plotting is not so straightforward. To better see the relationship, it helps to try plotting your data on a log-log scale."
   ]
  },
  {
   "cell_type": "code",
   "execution_count": 225,
   "metadata": {
    "collapsed": false,
    "scrolled": true
   },
   "outputs": [
    {
     "data": {
      "image/png": "[encoded data removed]",
      "text/plain": [
       "<matplotlib.figure.Figure at 0xf7a6fff160>"
      ]
     },
     "metadata": {},
     "output_type": "display_data"
    }
   ],
   "source": [
    "# log-log scale plot\n",
    "\n",
    "plt.loglog(X, Y, 'bo', X, Y, 'k')\n",
    "plt.grid(True)\n",
    "plt.title('Fig 2. Runtime of ThreeSum [log-log plot]')\n",
    "plt.xlabel('lg N')\n",
    "plt.ylabel('lg T(N)')\n",
    "plt.show()"
   ]
  },
  {
   "cell_type": "markdown",
   "metadata": {},
   "source": [
    "## Questions 1\n",
    "\n",
    "If your work so far is correct, you should see a straight line on your log-log plot in Fig 2. \n",
    "\n",
    "**(a)** Estimate the slope of the straight line on your log-log plot in Fig 2."
   ]
  },
  {
   "cell_type": "code",
   "execution_count": 232,
   "metadata": {
    "collapsed": false
   },
   "outputs": [
    {
     "name": "stdout",
     "output_type": "stream",
     "text": [
      "2.2833569207678\n"
     ]
    }
   ],
   "source": [
    "### TODO\n",
    "# write your answer for Question 1(a) in the cell below.\n",
    "\n",
    "import math\n",
    "x2 = X[-1]\n",
    "x1 = X[0]\n",
    "y2 = Y[-1]\n",
    "y1 = Y[0]\n",
    "\n",
    "diffx = math.log10(x2/x1)\n",
    "diffy = math.log10(y2/y1)\n",
    "\n",
    "slope = diffy/diffx\n",
    "print(slope)"
   ]
  },
  {
   "cell_type": "markdown",
   "metadata": {},
   "source": [
    "*Answer:*  2.2833569207678"
   ]
  },
  {
   "cell_type": "markdown",
   "metadata": {},
   "source": [
    "**(b)** What is the equation of the straight line on your log-log plot in Fig 2.  "
   ]
  },
  {
   "cell_type": "code",
   "execution_count": 235,
   "metadata": {
    "collapsed": false
   },
   "outputs": [
    {
     "name": "stdout",
     "output_type": "stream",
     "text": [
      "y = ( 2.2833569207678 ) x  + ( -9.133339257678013 )\n"
     ]
    }
   ],
   "source": [
    "### TODO\n",
    "# write your answer for Question 1(b) below.\n",
    "\n",
    "c = y1-(slope*x1)\n",
    "\n",
    "print(\"y = (\", slope , \") x  + (\" , c,\")\")\n",
    "\n"
   ]
  },
  {
   "cell_type": "markdown",
   "metadata": {},
   "source": [
    "*Answer:* y = ( 2.2833569207678 ) x  + ( -9.133339257678013 )"
   ]
  },
  {
   "cell_type": "markdown",
   "metadata": {
    "collapsed": true
   },
   "source": [
    "**(c)** From your experimental results in Fig 1 and Fig 2., write the running time as a function of the input size."
   ]
  },
  {
   "cell_type": "code",
   "execution_count": 236,
   "metadata": {
    "collapsed": false
   },
   "outputs": [
    {
     "name": "stdout",
     "output_type": "stream",
     "text": [
      "0.0017807006731047745\n"
     ]
    }
   ],
   "source": [
    "### TODO\n",
    "# write your answer for Question 1(c) below.\n",
    "\n",
    "a = math.pow(2, c)\n",
    "print(a)"
   ]
  },
  {
   "cell_type": "markdown",
   "metadata": {},
   "source": [
    "*Answer:* 0.0017807006731047745"
   ]
  },
  {
   "cell_type": "markdown",
   "metadata": {},
   "source": [
    "**(d)** What is the order of growth of the running time of ThreeSum function ?"
   ]
  },
  {
   "cell_type": "code",
   "execution_count": 231,
   "metadata": {
    "collapsed": false
   },
   "outputs": [
    {
     "name": "stdout",
     "output_type": "stream",
     "text": [
      "N^3 (cubic)\n"
     ]
    }
   ],
   "source": [
    "### TODO\n",
    "# write your answer for Question 1(d) below.\n",
    "\n",
    "print(\"N^3 (cubic)\") #from slide page 28"
   ]
  },
  {
   "cell_type": "markdown",
   "metadata": {},
   "source": [
    "*Answer:*N^3 (cubic)\n"
   ]
  },
  {
   "cell_type": "markdown",
   "metadata": {},
   "source": [
    "## Programming Quiz 1\n",
    "\n",
    "### Computing **prefix averages** of a sequence of numbers.\n",
    "\n",
    "Given a sequence $S$ consisting of $n$ numbers, we want to compute a sequence $A$ such that $A[j]$ is the average of elements $S[0],...,S[j]$, for $j=0,...,n-1$, that is,\n",
    "\n",
    "$$\n",
    "A[j] = \\frac{\\sum_{i=0}^{j} S[i]}{j+1}\n",
    "$$\n",
    "\n",
    "Computing prefix averages are used frequently in economics and statistics. For example, given the year-by-year returns of a mutual fund, ordered from recent to past, an investor will typically want to see the fund's average annual returns for the most recent 3-year, 5-year, and so on.\n",
    "\n",
    "**(a)** Design and implement a linear time algorithm for computing prefix averages of a sequence of $n$ numbers."
   ]
  },
  {
   "cell_type": "code",
   "execution_count": 245,
   "metadata": {
    "collapsed": true
   },
   "outputs": [],
   "source": [
    "def prefix_average(S):\n",
    "    \"\"\"\n",
    "    Compute prefix averages.\n",
    "        \n",
    "        S    an input sequence of n numbers.\n",
    "    Returns:\n",
    "        A    a list such that, for all j, A[j] equals average of S[0],..,S[j].\n",
    "    \"\"\"\n",
    "    # replace 'pass' with your code\n",
    "    \n",
    "    A = []\n",
    "    sum = 0\n",
    "    for i in range(len(S)):\n",
    "        sum = sum + S[i]\n",
    "        ave = sum/(i+1)\n",
    "        A.append(ave)\n",
    "    return A"
   ]
  },
  {
   "cell_type": "markdown",
   "metadata": {},
   "source": [
    "**(b)** Write a function that measures running time of the **prefix_average()** function for the input size of 4, 8, 16, 32, 64, 128, 256, 512, 1024. (use function *uniformInts()* to generate the input sequence S.)"
   ]
  },
  {
   "cell_type": "code",
   "execution_count": 246,
   "metadata": {
    "collapsed": false
   },
   "outputs": [],
   "source": [
    "def exec_PrefixAverage(n):\n",
    "    \"\"\"Measure time to solve an instance Prefix Averages problem of size n.\n",
    "        n    the problem size (i.e. the number of integers)\n",
    "    \n",
    "    Returns:\n",
    "        elasped_time    the estimated execution time of Prefix Averages \n",
    "    \n",
    "    \"\"\"\n",
    "    watch1 = Stopwatch()\n",
    "    S = uniformInts(n, -1000, 1000)\n",
    "    elapsed_time = 0\n",
    "    \n",
    "    ### Put your code here\n",
    "    prefix_average(S)\n",
    "\n",
    "    ###\n",
    "    elapsed_time = watch1.elapsedTime()\n",
    "    return elapsed_time\n",
    "\n",
    "def test_PrefixAverages(maxN=1024):\n",
    "    \"\"\"Measure runtime to solve Prefix Average problem of various size.\n",
    "    \n",
    "    Returns:\n",
    "        X  a list of problem size\n",
    "        Y  a list of time taken to compute prefix averages\n",
    "    \"\"\"\n",
    "    X = []\n",
    "    Y = []\n",
    "    # start with 4 integers\n",
    "    n = 4\n",
    "\n",
    "    ### Put your code here\n",
    "    while True:\n",
    "        X.append(n)\n",
    "        Y.append(exec_PrefixAverage(n))\n",
    "        n *= 2\n",
    "        if n > maxN: break\n",
    "\n",
    "    ###\n",
    "    \n",
    "    return X, Y"
   ]
  },
  {
   "cell_type": "markdown",
   "metadata": {},
   "source": [
    "**(c)** Plot the running time of your **prefix_average()** function against the input size."
   ]
  },
  {
   "cell_type": "code",
   "execution_count": 248,
   "metadata": {
    "collapsed": false
   },
   "outputs": [
    {
     "name": "stdout",
     "output_type": "stream",
     "text": [
      "[4, 8, 16, 32, 64, 128, 256, 512, 1024]\n",
      "[3.2764764910098165e-05, 2.250110628665425e-05, 3.868611020152457e-05, 7.421416739816777e-05, 0.0001456650425097905, 0.0002830402081599459, 0.0005704227332898881, 0.0011325555824441835, 0.0022730062919436023]\n"
     ]
    },
    {
     "data": {
      "image/png": "[encoded data removed]",
      "text/plain": [
       "<matplotlib.figure.Figure at 0xf7a6ce8828>"
      ]
     },
     "metadata": {},
     "output_type": "display_data"
    },
    {
     "data": {
      "image/png": "[encoded data removed]",
      "text/plain": [
       "<matplotlib.figure.Figure at 0xf7a6ce40f0>"
      ]
     },
     "metadata": {},
     "output_type": "display_data"
    }
   ],
   "source": [
    "import matplotlib.pyplot as plt\n",
    "%matplotlib inline\n",
    "\n",
    "### put your code below\n",
    "\n",
    "X, Y = test_PrefixAverages(1024)\n",
    "print(X)\n",
    "print(Y)\n",
    "\n",
    "\n",
    "plt.plot(X, Y, 'bo', X, Y, 'k')\n",
    "plt.grid(True)\n",
    "plt.title('Fig 1. Runtime of prefix_average')\n",
    "plt.xlabel('Problem size [N]')\n",
    "plt.ylabel('Runtime T(N) (seconds)')\n",
    "plt.show()\n",
    "\n",
    "plt.loglog(X, Y, 'bo', X, Y, 'k')\n",
    "plt.grid(True)\n",
    "plt.title('Fig 2. Runtime of prefix_average [log-log plot]')\n",
    "plt.xlabel('lg N')\n",
    "plt.ylabel('lg T(N)')\n",
    "plt.show()"
   ]
  },
  {
   "cell_type": "code",
   "execution_count": null,
   "metadata": {
    "collapsed": true
   },
   "outputs": [],
   "source": []
  }
 ],
 "metadata": {
  "anaconda-cloud": {},
  "kernelspec": {
   "display_name": "Python [Root]",
   "language": "python",
   "name": "Python [Root]"
  },
  "language_info": {
   "codemirror_mode": {
    "name": "ipython",
    "version": 3
   },
   "file_extension": ".py",
   "mimetype": "text/x-python",
   "name": "python",
   "nbconvert_exporter": "python",
   "pygments_lexer": "ipython3",
   "version": "3.5.2"
  }
 },
 "nbformat": 4,
 "nbformat_minor": 0
}
